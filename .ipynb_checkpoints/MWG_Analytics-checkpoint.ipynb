{
 "cells": [
  {
   "cell_type": "code",
   "execution_count": 3,
   "metadata": {},
   "outputs": [],
   "source": [
    "import numpy as np \n",
    "import pandas as pd\n",
    "pd.set_option('display.max_colwidth', -1)\n",
    "import matplotlib.pyplot as plt\n",
    "%matplotlib inline\n",
    "import re\n"
   ]
  },
  {
   "cell_type": "code",
   "execution_count": 4,
   "metadata": {},
   "outputs": [],
   "source": [
    "df = pd.read_csv('MWG_dataset.csv')\n"
   ]
  },
  {
   "cell_type": "code",
   "execution_count": 5,
   "metadata": {},
   "outputs": [
    {
     "data": {
      "text/html": [
       "<div>\n",
       "<style scoped>\n",
       "    .dataframe tbody tr th:only-of-type {\n",
       "        vertical-align: middle;\n",
       "    }\n",
       "\n",
       "    .dataframe tbody tr th {\n",
       "        vertical-align: top;\n",
       "    }\n",
       "\n",
       "    .dataframe thead th {\n",
       "        text-align: right;\n",
       "    }\n",
       "</style>\n",
       "<table border=\"1\" class=\"dataframe\">\n",
       "  <thead>\n",
       "    <tr style=\"text-align: right;\">\n",
       "      <th></th>\n",
       "      <th>bubble_rating</th>\n",
       "      <th>review_date</th>\n",
       "      <th>review_paragraph</th>\n",
       "      <th>review_title</th>\n",
       "      <th>site</th>\n",
       "    </tr>\n",
       "  </thead>\n",
       "  <tbody>\n",
       "    <tr>\n",
       "      <td>0</td>\n",
       "      <td>5</td>\n",
       "      <td>11 March 2020</td>\n",
       "      <td>This place is swarming with Gadventurers and CEOs and the food is quite good, especially their garlic naan, my favorite.  Almost all their dishes are exceptionally good.  Came here three times and tried different dishes on the menu....never disappointed.</td>\n",
       "      <td>Great Indian Food For a Cause</td>\n",
       "      <td>TripAdvisor</td>\n",
       "    </tr>\n",
       "    <tr>\n",
       "      <td>1</td>\n",
       "      <td>5</td>\n",
       "      <td>11 March 2020</td>\n",
       "      <td>Visited about a week ago and we  were very impressed with the food service and gereral ambience of this very clean and slick restaurant. It is well worth a visit if in the area and prices are good. We will be returning soon.</td>\n",
       "      <td>Dinner</td>\n",
       "      <td>TripAdvisor</td>\n",
       "    </tr>\n",
       "    <tr>\n",
       "      <td>2</td>\n",
       "      <td>5</td>\n",
       "      <td>2 March 2020</td>\n",
       "      <td>I enjoyed a fantastic meal at KWAC thanks to Brikash Sharma our excellent guide while spending sometime in New Delhi recently. We were a table of 15+ South Africans so appreciated the giving back ethos of supporting the under privileged and street people. My meal was delicious and well priced. I highly recommend to all “westerners” wanting to support local smaller restaurants. Namaste</td>\n",
       "      <td>Kitchen with a Cause - FANTASTIC</td>\n",
       "      <td>TripAdvisor</td>\n",
       "    </tr>\n",
       "    <tr>\n",
       "      <td>3</td>\n",
       "      <td>5</td>\n",
       "      <td>25 February 2020</td>\n",
       "      <td>This is a lovely hidden gem in Karol Bagh, walking distance from the metro. The restaurant is beautiful with great food at reasonable prices. The staff is friendly &amp; competent also goes the extra mile if you want to celebrate a birthday or get together. They baked the most delicious chocolate cake and made my friends birthday extra special. So happy our tour guide Miksa took us there. I can highly recommend this restaurant to all my traveling buddies &amp; friends visiting Delhi from South Africa.</td>\n",
       "      <td>Intrepid Tour experience</td>\n",
       "      <td>TripAdvisor</td>\n",
       "    </tr>\n",
       "    <tr>\n",
       "      <td>4</td>\n",
       "      <td>5</td>\n",
       "      <td>23 February 2020</td>\n",
       "      <td>The restaurant is a social project, so 5 stars just for it. Talking about the restaurant:- Food: wide variety of Indian dishes- Service: super kind and fast- Quality: very good (although some dishes are interpreted in the wrong way, the springs rolls and the fried rice. They were good and tasty, but do not expect the \"traditional\" dish).- Place: super clean - Price: super fair!Therefore, I would surely come back. :)</td>\n",
       "      <td>Great restaurant!</td>\n",
       "      <td>TripAdvisor</td>\n",
       "    </tr>\n",
       "    <tr>\n",
       "      <td>...</td>\n",
       "      <td>...</td>\n",
       "      <td>...</td>\n",
       "      <td>...</td>\n",
       "      <td>...</td>\n",
       "      <td>...</td>\n",
       "    </tr>\n",
       "    <tr>\n",
       "      <td>206</td>\n",
       "      <td>5</td>\n",
       "      <td>19 February 2018</td>\n",
       "      <td>A perfect meal and a great place and atmosphere - attentive staff and had a great vibe, we wouldn’t visit Delhi again without coming here first!</td>\n",
       "      <td>Perfect Visit in heart of Dehli</td>\n",
       "      <td>TripAdvisor</td>\n",
       "    </tr>\n",
       "    <tr>\n",
       "      <td>207</td>\n",
       "      <td>5</td>\n",
       "      <td>19 February 2018</td>\n",
       "      <td>This was our tour groups first meal in India, and we were made to feel instantly welcome. The manager came to introduce himself and the food was incredible. Apart from being the best presented food we had during our trip, it tasted lovely too. I stuck with vegetarian, but the meat received good comments from our group too. A definite recommendation.</td>\n",
       "      <td>Excellent food and vibe</td>\n",
       "      <td>TripAdvisor</td>\n",
       "    </tr>\n",
       "    <tr>\n",
       "      <td>208</td>\n",
       "      <td>5</td>\n",
       "      <td>17 February 2018</td>\n",
       "      <td>Lip smacking, delicious food, cool ambience, homely vibe with a really helpful and friendly staff.Also great initiative - giving back to the community!!!</td>\n",
       "      <td>Delicious food</td>\n",
       "      <td>TripAdvisor</td>\n",
       "    </tr>\n",
       "    <tr>\n",
       "      <td>209</td>\n",
       "      <td>5</td>\n",
       "      <td>16 February 2018</td>\n",
       "      <td>Great ambiance and super service with their food quality. They did every thing to make my son birthday special.</td>\n",
       "      <td>Best Birthday party ever</td>\n",
       "      <td>TripAdvisor</td>\n",
       "    </tr>\n",
       "    <tr>\n",
       "      <td>210</td>\n",
       "      <td>5</td>\n",
       "      <td>11 February 2018</td>\n",
       "      <td>Our group of travellers enjoyed the food and drinks at Street Kitchen for dinner twice while on a tour of India. We started with drinks from their large selection of smoothies, shakes, lassi and juices, all freshly prepared and artfully presented. Our food choices were made from a good selection of traditional Indian vegetarian and non-vegetarian dishes as well as salads, Chinese and Continental dishes. The food and drinks were delicious, beautifully presented and enjoyed by all members of our group.</td>\n",
       "      <td>Artfully presented delicious food</td>\n",
       "      <td>TripAdvisor</td>\n",
       "    </tr>\n",
       "  </tbody>\n",
       "</table>\n",
       "<p>211 rows × 5 columns</p>\n",
       "</div>"
      ],
      "text/plain": [
       "     bubble_rating       review_date  \\\n",
       "0    5              11 March 2020      \n",
       "1    5              11 March 2020      \n",
       "2    5              2 March 2020       \n",
       "3    5              25 February 2020   \n",
       "4    5              23 February 2020   \n",
       "..  ..                           ...   \n",
       "206  5              19 February 2018   \n",
       "207  5              19 February 2018   \n",
       "208  5              17 February 2018   \n",
       "209  5              16 February 2018   \n",
       "210  5              11 February 2018   \n",
       "\n",
       "                                                                                                                                                                                                                                                                                                                                                                                                                                                                                                              review_paragraph  \\\n",
       "0    This place is swarming with Gadventurers and CEOs and the food is quite good, especially their garlic naan, my favorite.  Almost all their dishes are exceptionally good.  Came here three times and tried different dishes on the menu....never disappointed.                                                                                                                                                                                                                                                              \n",
       "1    Visited about a week ago and we  were very impressed with the food service and gereral ambience of this very clean and slick restaurant. It is well worth a visit if in the area and prices are good. We will be returning soon.                                                                                                                                                                                                                                                                                            \n",
       "2    I enjoyed a fantastic meal at KWAC thanks to Brikash Sharma our excellent guide while spending sometime in New Delhi recently. We were a table of 15+ South Africans so appreciated the giving back ethos of supporting the under privileged and street people. My meal was delicious and well priced. I highly recommend to all “westerners” wanting to support local smaller restaurants. Namaste                                                                                                                         \n",
       "3    This is a lovely hidden gem in Karol Bagh, walking distance from the metro. The restaurant is beautiful with great food at reasonable prices. The staff is friendly & competent also goes the extra mile if you want to celebrate a birthday or get together. They baked the most delicious chocolate cake and made my friends birthday extra special. So happy our tour guide Miksa took us there. I can highly recommend this restaurant to all my traveling buddies & friends visiting Delhi from South Africa.          \n",
       "4    The restaurant is a social project, so 5 stars just for it. Talking about the restaurant:- Food: wide variety of Indian dishes- Service: super kind and fast- Quality: very good (although some dishes are interpreted in the wrong way, the springs rolls and the fried rice. They were good and tasty, but do not expect the \"traditional\" dish).- Place: super clean - Price: super fair!Therefore, I would surely come back. :)                                                                                         \n",
       "..                                                                                                                                                                                                                                                                                                                                                                                                                                   ...                                                                                         \n",
       "206  A perfect meal and a great place and atmosphere - attentive staff and had a great vibe, we wouldn’t visit Delhi again without coming here first!                                                                                                                                                                                                                                                                                                                                                                            \n",
       "207  This was our tour groups first meal in India, and we were made to feel instantly welcome. The manager came to introduce himself and the food was incredible. Apart from being the best presented food we had during our trip, it tasted lovely too. I stuck with vegetarian, but the meat received good comments from our group too. A definite recommendation.                                                                                                                                                             \n",
       "208  Lip smacking, delicious food, cool ambience, homely vibe with a really helpful and friendly staff.Also great initiative - giving back to the community!!!                                                                                                                                                                                                                                                                                                                                                                   \n",
       "209  Great ambiance and super service with their food quality. They did every thing to make my son birthday special.                                                                                                                                                                                                                                                                                                                                                                                                             \n",
       "210  Our group of travellers enjoyed the food and drinks at Street Kitchen for dinner twice while on a tour of India. We started with drinks from their large selection of smoothies, shakes, lassi and juices, all freshly prepared and artfully presented. Our food choices were made from a good selection of traditional Indian vegetarian and non-vegetarian dishes as well as salads, Chinese and Continental dishes. The food and drinks were delicious, beautifully presented and enjoyed by all members of our group.   \n",
       "\n",
       "                          review_title         site  \n",
       "0    Great Indian Food For a Cause      TripAdvisor  \n",
       "1    Dinner                             TripAdvisor  \n",
       "2    Kitchen with a Cause - FANTASTIC   TripAdvisor  \n",
       "3    Intrepid Tour experience           TripAdvisor  \n",
       "4    Great restaurant!                  TripAdvisor  \n",
       "..                 ...                          ...  \n",
       "206  Perfect Visit in heart of Dehli    TripAdvisor  \n",
       "207  Excellent food and vibe            TripAdvisor  \n",
       "208  Delicious food                     TripAdvisor  \n",
       "209  Best Birthday party ever           TripAdvisor  \n",
       "210  Artfully presented delicious food  TripAdvisor  \n",
       "\n",
       "[211 rows x 5 columns]"
      ]
     },
     "execution_count": 5,
     "metadata": {},
     "output_type": "execute_result"
    }
   ],
   "source": [
    "df.drop(['Unnamed: 0'], axis = 1)"
   ]
  },
  {
   "cell_type": "markdown",
   "metadata": {},
   "source": [
    "# Rating Analysis:"
   ]
  },
  {
   "cell_type": "code",
   "execution_count": 6,
   "metadata": {},
   "outputs": [
    {
     "data": {
      "text/plain": [
       "max     5.000000\n",
       "min     1.000000\n",
       "mean    4.767773\n",
       "Name: bubble_rating, dtype: float64"
      ]
     },
     "execution_count": 6,
     "metadata": {},
     "output_type": "execute_result"
    }
   ],
   "source": [
    "df['bubble_rating'].agg(['max','min','mean'])"
   ]
  },
  {
   "cell_type": "markdown",
   "metadata": {},
   "source": [
    "**Note** : Average Rating of the restaurant : 4.7677"
   ]
  },
  {
   "cell_type": "code",
   "execution_count": 7,
   "metadata": {},
   "outputs": [
    {
     "data": {
      "text/plain": [
       "array([[<matplotlib.axes._subplots.AxesSubplot object at 0x0000023971649548>]],\n",
       "      dtype=object)"
      ]
     },
     "execution_count": 7,
     "metadata": {},
     "output_type": "execute_result"
    },
    {
     "data": {
      "image/png": "[encoded data removed]",
      "text/plain": [
       "<Figure size 432x288 with 1 Axes>"
      ]
     },
     "metadata": {
      "needs_background": "light"
     },
     "output_type": "display_data"
    }
   ],
   "source": [
    "df.hist(column = \"bubble_rating\", bins = 10)"
   ]
  },
  {
   "cell_type": "markdown",
   "metadata": {},
   "source": [
    "As expected most of the reviews rated the restaurant 5. Hence the mean rating is close to 5."
   ]
  },
  {
   "cell_type": "markdown",
   "metadata": {},
   "source": [
    "# Review Analysis"
   ]
  },
  {
   "cell_type": "code",
   "execution_count": 8,
   "metadata": {},
   "outputs": [
    {
     "data": {
      "image/png": "[encoded data removed]",
      "text/plain": [
       "<Figure size 432x288 with 1 Axes>"
      ]
     },
     "metadata": {
      "needs_background": "light"
     },
     "output_type": "display_data"
    }
   ],
   "source": [
    "plt.hist(df['review_paragraph'].map(lambda x: len(x)))\n",
    "plt.xlabel('Length of review')\n",
    "plt.ylabel('Number of reviews')\n",
    "plt.title('Length of Review vs Number of Reviews')\n",
    "plt.show()"
   ]
  },
  {
   "cell_type": "code",
   "execution_count": 9,
   "metadata": {},
   "outputs": [
    {
     "data": {
      "text/plain": [
       "335.74407582938386"
      ]
     },
     "execution_count": 9,
     "metadata": {},
     "output_type": "execute_result"
    }
   ],
   "source": [
    "df['review_paragraph'].map(lambda x: len(x)).mean()"
   ]
  },
  {
   "cell_type": "markdown",
   "metadata": {},
   "source": [
    "Most of the reviews have length of around 250 characters. And mean length of review is 355 characters."
   ]
  },
  {
   "cell_type": "markdown",
   "metadata": {},
   "source": [
    "# Natural Language Processing"
   ]
  },
  {
   "cell_type": "code",
   "execution_count": 10,
   "metadata": {},
   "outputs": [
    {
     "name": "stderr",
     "output_type": "stream",
     "text": [
      "[nltk_data] Downloading package stopwords to\n",
      "[nltk_data]     C:\\Users\\mepiy\\AppData\\Roaming\\nltk_data...\n",
      "[nltk_data]   Package stopwords is already up-to-date!\n",
      "[nltk_data] Downloading package punkt to\n",
      "[nltk_data]     C:\\Users\\mepiy\\AppData\\Roaming\\nltk_data...\n",
      "[nltk_data]   Package punkt is already up-to-date!\n"
     ]
    }
   ],
   "source": [
    "import nltk\n",
    "from nltk import stem\n",
    "nltk.download('stopwords')\n",
    "nltk.download('punkt')\n",
    "from nltk.corpus import stopwords\n",
    "\n",
    "stemmer = stem.SnowballStemmer('english')\n",
    "stopwords = set(stopwords.words('english'))"
   ]
  },
  {
   "cell_type": "code",
   "execution_count": 11,
   "metadata": {},
   "outputs": [],
   "source": [
    "from nltk.tokenize import word_tokenize\n",
    "from nltk.stem.porter import PorterStemmer\n",
    "    "
   ]
  },
  {
   "cell_type": "code",
   "execution_count": 12,
   "metadata": {},
   "outputs": [],
   "source": [
    "corpus = []\n",
    "def clean_review():\n",
    "    for i in range(0,len(df['review_paragraph'])):\n",
    "        review = re.sub('[^a-zA-Z]', ' ', df['review_paragraph'][i])  \n",
    "\n",
    "        review = review.lower()  \n",
    "\n",
    "        review = review.split()  \n",
    "\n",
    "        review = [w for w in review if not w in stopwords]\n",
    "        porter = PorterStemmer()\n",
    "        review = [porter.stem(word) for word in review]\n",
    "\n",
    "        review = ' '.join(review)   \n",
    "\n",
    "        corpus.append(review) "
   ]
  },
  {
   "cell_type": "code",
   "execution_count": 13,
   "metadata": {},
   "outputs": [],
   "source": [
    "clean_review()"
   ]
  },
  {
   "cell_type": "code",
   "execution_count": 14,
   "metadata": {},
   "outputs": [
    {
     "data": {
      "text/plain": [
       "['place swarm gadventur ceo food quit good especi garlic naan favorit almost dish except good came three time tri differ dish menu never disappoint',\n",
       " 'visit week ago impress food servic gerer ambienc clean slick restaur well worth visit area price good return soon',\n",
       " 'enjoy fantast meal kwac thank brikash sharma excel guid spend sometim new delhi recent tabl south african appreci give back etho support privileg street peopl meal delici well price highli recommend western want support local smaller restaur namast',\n",
       " 'love hidden gem karol bagh walk distanc metro restaur beauti great food reason price staff friendli compet also goe extra mile want celebr birthday get togeth bake delici chocol cake made friend birthday extra special happi tour guid miksa took us highli recommend restaur travel buddi friend visit delhi south africa',\n",
       " 'restaur social project star talk restaur food wide varieti indian dish servic super kind fast qualiti good although dish interpret wrong way spring roll fri rice good tasti expect tradit dish place super clean price super fair therefor would sure come back',\n",
       " 'realli love restaur visit twice part gadventur tour went back one tour finish food three occas delici enjoy chicken lababdar tikka paneer parti said food tasti menu offer great choic realli reason price decor modern tidi toilet realli clean love fact place support local peopl gain experi earn decent live miss stay karol bagh',\n",
       " 'absolut hidden gem place realli well decor modern simpl food outstand servic great idea behind restaur equal impress teach young adult skill go hospit world must karol bagh',\n",
       " 'realli good menu tasti food great servic stay karol bagh make sure stop love meal',\n",
       " 'excel menu vegetarian meat choic pleasant environ good servic meal tasti good portion size would highli recommend support worthwhil enterpris',\n",
       " 'enjoy meal stay new delhi menu great varieti food drink clean great servic',\n",
       " 'food excel dine time india food servic excel would highli recommend',\n",
       " 'start drink larg select smoothi shake lassi juic freshli prepar art present food choic made good select tradit indian vegetarian non vegetarian dish well salad chines continent dish food drink delici recommend',\n",
       " 'call drink return even meal like atmospher look menu fact like much return even night stay delhi good straightforward meat vegetarian dish good rang drink staff charm effici even busi quit happi reserv tabl highli recommend kitchen caus',\n",
       " 'land trip varanasi thought tri place near hotel highli rate order tandoori platter fish lamb total superb intern drink reason price compar taj hotel least around jw red label cafe bar ambienc nice mix clientel famili group solo travel',\n",
       " 'charm relax restaur good food well price servic excel ate part group solo twice felt perfectli relax look everi time love food cocktail desir easi walk karol bagh metro probabl best stay area visit market',\n",
       " 'famili stay local found gem went twice first day delhi felt safe enjoy delici food great servic',\n",
       " 'far best meal three week visit rajasthan christma new year taken tour guid last night meal food sublim us differ dish everi one agre food ambianc servic excel bit unwel want fairli bland meal menu show chicken tikka dish creami sauc ask plain chicken tikka chicken beauti cook soft tender right amount season spice accept dodgi tummi pea pilau rice garlic naan accompani also flavoursom wish gone previou visit delhi like tri interest dish menu staff sweet noth much troubl urg give place tri suggest book popular reason price',\n",
       " 'time time food servic absolut fantast go wrong place particular travel western hemispher want care choic restaur',\n",
       " 'realli love meal cosi atmospher attend larg group food nice time manner nice support local realli good experi',\n",
       " 'enjoy much food amaz good hopital clean come thank ajay brother infrom restaur',\n",
       " 'food kitchen caus incred plenti staff ensur prompt friendli servic awesom place commun incred servic',\n",
       " 'wat een mooi concept daarnaast heerlijk eten geraakt door de gastvrijheid dear neina go wish amaz futur',\n",
       " 'recommend place great thing food servic atmospher good decent valu money',\n",
       " 'ate guid group g adventur tour place buzz atmospher food servic excel great know help fantast caus would highli recommend visit',\n",
       " 'delhi visit kitchen caus twice food excel time restaur good atmospher clean nice design make cool place hang hour two',\n",
       " 'awesom place amaz messag food good littl pricey nice calm insid compar crazi street outsid waitress sweet',\n",
       " 'begin proud indian would blatantli honest review coupl week ago photograph friend bump cafe around even enter find tabl reserv settl order beer potato wedg look around read messag wall flier menu card kitchen caus air around still staff seem unwelcom us wonder reason walk group foreign around odd peopl accompani indian handler read dalla scene immedi chang waiter smile cheer barman juggl beer handler dalla explain caus let tell caus first hand creat cafe creat much sympathi bring custom smile beer donat gener see street children hear miseri lace stori handler guest ask donat gener caus happen front eye mani time post realiz place scam indian place india sure last place would wanna hang around tri unwind beer pathet lowli indian place caus shame inde showcas downtrodden fill pocket',\n",
       " 'visit karol bagh market famili decid time eat tri kitchen caus love concept establish help local young peopl food amaz tri shahi paneer rice roti flavor creami fresh hot partner order aloo ghobi adraki realli enjoy flavor sin order chicken dish love blend spice use real treat worth visit stay local',\n",
       " 'visit time time india love mani delici veggi option choos highli recommend chickpea curri like bit spice paneer curri amaz well oh butter naan incred',\n",
       " 'lot choic great tasti food good price amaz cocktail servic great help get street kid street amaz place',\n",
       " 'food delici servic excel restaur busi noisi applaud work help get local youth street train futur job make reserv',\n",
       " 'concept restaur wonder food magnific stuf naan korma curri butter chicken garlic roti omg could keep go definit must eat least',\n",
       " 'interest new food noisi usual larg tabl group tour talk loiuder',\n",
       " 'visit kitchen caus option meal golden triangl tour restaur provid opportun want get foot hospit industri also serv delici meal menu serv indian curri bread rice well chines dish pizza burger serv lunch time extens cocktail mocktail beer non alcohol drink menu tour group unanim decid go back restaur end tour indic favour impress restaur left us choic dish butter chicken garlic chees roti butter naan tandoori platter sizzl chocol browni sunda delici especi browni sunda come sizzl plate thoroughli enjoy meal restaur fellow tour groupi',\n",
       " 'visit today read review love great food reason price clean well laid restaur great servic restaur special fish curri chicken curri garlic mann rice return',\n",
       " 'great food servic atmospher opportun give back commun indian chines burger pizza',\n",
       " 'went twice trip delhi food great servic excel restaur great work local popul provid street kid internship opportun feel good eat',\n",
       " 'meal recent tour best food fantast servic concept heartwarm need go vidit new dehli',\n",
       " 'realli good food amaz staff place welcom warm clean food variou fresh import caus good job',\n",
       " 'ambienc nice servic excel food howev disappoint malai kofta pale bland unappetis paratha ok would go back',\n",
       " 'visit kitchen caus restaur alongwith fiance food awesom servic even better low price know restaur help underprivileg youth street train better futur deepli touch great caus would realli love see concept grow multifold',\n",
       " 'trip went dinner drink sever time everyth order menu excel delici food modern bright atmospher friendli staff reason price realli love concept restaur kitchen caus provid paid internship underprivileg youth live street train food servic industri skill help build self confid need chanc better futur great dinner experi caus',\n",
       " 'introduc restaur part g adventur tour two week india favourit restaur food high qualiti exquisit made make experi bit special servic know dine restaur help train disadvantag peopl refresh servic food impecc incred experi would encourag anyon visit',\n",
       " 'visit part g adventur tour also went back twice impress food servic experi food fresh tasti price good cocktail cheap delici',\n",
       " 'great place eat wonder caus welcom friendli effici happi recommend travel',\n",
       " 'visit restaur twice stay delhi delici local intern food noodl veg great need fix',\n",
       " 'fabul atmospher clean great staff brilliant servic toilet western style clean food freshli prepar pre book essenti larg group like accommod bill ask individu one concept kafe import help local peopl get pathway employ cater hospit industri glad support caus kwac see logo photo',\n",
       " 'ate time visit jaipur time whether group made feel welcom food choic good tast love restaur full even servic littl slower compromis overal experi staff work hard extrem pleasant recommend eat jaipur',\n",
       " 'visit kwac time short stay delhi impress qualiti food cleanli restaur attent staff uniqu lahor curri serv clay pot masala chicken even paratha stood other tri day north india restaur spaciou good coupl group warm relax atmospher concept restaur etho set apart restaur kwac offer internship program provid hospit train experi young peopl challeng background seek new skill opportun highli recommend visit regret',\n",
       " 'group us visit kitchen caus part week holiday india great concept staff love attent food great worth visit',\n",
       " 'ate restaur two occas time food excel custom servic fantast fabul surround also love fact support young peopl engag train futur help find employ super project',\n",
       " 'drawn restaur due premis caus promot help peopl expect delici food go india week far best meal staff fantats restaur great atmospher food realli incred must visitor delhi',\n",
       " 'india week restaur impress us besid great food servic also work great caus valu definit stand behind much recommend',\n",
       " 'nice also support good caus mostli visit tourist excel food flavour nice ambianc friendli staff alcohol serv best meal delhi',\n",
       " 'name place run caus ie help underprivileg earn live good ambienc food staff visit place fulli occupi foreign tourist also wait tabl bar price also moder',\n",
       " 'visit restaur group great dinner excel initi well worth support',\n",
       " 'food awesom love air condit set sit enjoy quiet away hustl market outsid',\n",
       " 'brief stopov delhi found gem food delici fish tikka season veg curri make differ young peopl',\n",
       " 'spent arround week india went meal time restaur far one tasti indian food came across staff profession polit great food good caus bonu delhi must visit kwac',\n",
       " 'best restaur delhi best curri ever tast friendli staff great caus would highli recommend big group restaur staff great job fit us busi amaz cocktail great valu money abhi owner absolut fantast host',\n",
       " 'came twice new delhi first group second time solo time great food great friendli servic defin worth support',\n",
       " 'ate time trip india food excel staff amaz bit expens place well worth also go beer want get away bustl street',\n",
       " 'understand anyon would give great restaur less star recent dinner throughli enjoy food delici well present restaur nice feel top help give young kid second chanc waitress seem nervou attent still learn alway ask manag know someth took time go everyth straight forward group vegan gluten free vegetarian someon hate spice meal perfect',\n",
       " 'went twice begin end tour first night restaur great staff speak english food good busi organis tour look like lot other thing well also lot local stay area good place start',\n",
       " 'star review restaur give peopl caus concern like mani western review restaur also went dinner thought place good food took age arriv overpr local standard like tesco packag food western palat use especi shahi paneer full sugar red colour cashew past tradit spice ghee grew local know authent food tast like pay could eat took convinc hakka noodl okay though paneer order give son stomach problem morn ambienc poor bad acoust timber palett hung ceil obvious design restaur seen trendi western restaur case special made architect though layout poor famili get drunk make lot nois manag timid stop worryingli get proper answer charit caus told support street kid see chariti registr number see street kid first intern given interview facebook page give detail learn appear street kid well educ adult talk street kind area never heard restaur neither local busi associ never went instead visit authent south indian restaur next door also saw kwac staff daili watch hord naiv western peopl go think help poor eat terribl overpr food might better give money regist chariti eat authent food somewher els instead',\n",
       " 'came group realli enjoy food atmospher us probabl tri stuff menu noth left plate delici butter chicken highli recommend good came back week later fact restaur also help street kid learn get job make even better well worth visit',\n",
       " 'aloo ghobi highli recommend best three week travel flavour textur absolut point staff friendli servic mind make perhap one favourit restaur delhi',\n",
       " 'food excel fresh well made idea brilliant great know love meal help get young peopl street work special great cocktail',\n",
       " 'nice manag interest tell stori compani nice food busi cosi time row',\n",
       " 'amaz food great servic select vari big waiter help recommend bar amaz drink',\n",
       " 'delici dinner order dahl butter chicken rice naan two lime soda delici rupe two peopl expens side delhi western style tourist restaur get bear delhi nice place go heard oper g adventur confirm sure like caus behind restaur well servic great two us group tourist came ask tabl accommod good larger group well',\n",
       " 'visit dinner follow review tripadvisor great food realli cool decor enthusiast motiv staff great',\n",
       " 'came group servic excel friendli staff great food realli good varieti choic vegetarian option great atmospher would visit delhi',\n",
       " 'recent visit kitchen caus liter right sort word describ place environ creat custom dam marvel like made palac scrap food delici humbl natur staff good serv food love best place selfi lover present food also good price afford near karol bagh metro station also collabor three ngo place good food marvel everyth place give posit vibe person read visit place',\n",
       " 'great food gorgeou littl restaur could easili miss walk past worth look share differ dish delici plenti veggi option meat meat one realli good reason price great select choos back delhi would come',\n",
       " 'group us came dinner blame away qualiti food flavour amaz everyth fresh definit return end trip best restaur delhi',\n",
       " 'two experi travel delhi struggl find somewher cheap cheer also nice thank good found kitchen beauti food friendli attent staff cool vibe reason price recommend',\n",
       " 'came across place stroke luck wake shop area nearbi final day india wish found first day butter chicken lunch fantast food tasti well present reason price enjoy much cam back later night dinner good food good price good caus',\n",
       " 'great restaur support g adventur ate group occas start end tour support local peopl great dine rather random restaur delici food make choic hard job everyon parti well impress choic',\n",
       " 'g adventur tour leader brought us group dinner set next day realli appreci concept place give paid internship underprivileg young adult train work forc support mission happi part also happi authent indian food ate good servic good job kitchen caus namast',\n",
       " 'visit number time visit new delhi member tour group food delici serv gener staff friendli attent facil clean',\n",
       " 'recommend hotel g adventur tour disappoint tri number dish mostli indian advis stick visit last visit opt veggi burger nowher near good curri previous servic good even larg group us portion larg price reason complet common abl relax sit semi quiet air condit restaur recommend kitchen caus lot vegan option nice clean bathroom stylish seat area restaur also invest support local peopl',\n",
       " 'great restaur food yummi littl pricey decor beauti clean staff fabul',\n",
       " 'great place visit famili friend food delici servic excel total',\n",
       " 'probabl turist offer good varieti indian dish origin revis plu chines food dish tri good tandoor nasi chicken chef select good serv alcohol',\n",
       " 'reustaur seem support mani travel oran includ trip advisor alway mani peopl waitingn tabl chair atmosph insid amaz food delici',\n",
       " 'seek great social enterpris restaur set offer internship young adult street assist ngo across delhi great set excel food servic',\n",
       " 'last even dinner first second got fell love place uniqu concept design great food servic best restor india',\n",
       " 'short stay delhi visit restaur twice staff fantast attent alway happi bubbl serv fantast caus support cours food extrem delici',\n",
       " 'easiest place find arriv welcom food follow superb realli fault anyth food high standard well present reason nice staff want good food support social caus place well worth visit',\n",
       " 'food servic amaz week india meal best far keep incred littl piec hope young peopl delhi',\n",
       " 'mum went restaur twice separ stay delhi precis love much found food reason price super tasti staff total wonder offer varieti food choos love super trendi relax restaur love atmospher realli like know etho behind restaur train teenag street children progress super recommend disappoint attach coupl photo took place wonder food justic',\n",
       " 'recent got chanc visit kitchen caus restaur karol bagh frequent travel karol bagh food place last mani year must say kwc brilliant ambianc staff locat certainli food realli impress owner govind abhisekh put effort give authent tast travel food lover like miss caus finger lick food may give power pen someon hand thank kwc',\n",
       " 'reason price flavour well prepar food appear quit popular tourist servic good server quit busi seem like may mani tabl meal quit slow come tabl otherwis complaint',\n",
       " 'order time get someth ingredi disappoint servic end got pizza smallest pizza ever seen',\n",
       " 'restaur far favorit food place visit within india initi support kwac educ young peopl provid month internship teach skill knowledg abl work hospit field person met owner initi never met someon passion will make posit chang world felt instil impress empow young peopl especi femal pleas bit help support amaz caus food delici servic fast friendli disappoint',\n",
       " 'ate coupl time trip delhi drawn initi base upon recommend disappoint vegetarian spoilt choic everi dish cook perfectli present well still dream luxuri smoke dhal makhani area would recommend visit disappoint',\n",
       " 'kwac provid internship young peopl care background help get hospit industri caus alon worth visit tasti food drink massiv bonu ate drank multipl time trip time food cocktail amaz staff wonder enough accomod tri sweet lime soda best india also need mention insid decor love give place realli cool vibe delhi need visit kwac',\n",
       " 'went dinner today food absolut brilliant tasti expertli cook tandoori dish make sure finish excel chai tea probabl best indian food ever lot staff wonder welcom nice peopl wish well place spotlessli clean modern decor price good compar home london england best menu much less thank much kwac alway come back delhi namast',\n",
       " 'ate multipl time solo trip india staff fantast food delici definit recommend check place trip one must rememb eat restur feed other futur aswel restur repres futur chang offer young local adult opportun grow develop skill set hospit offer endless job opportun futur staff smile clear restaur posit effect recommend',\n",
       " 'came across place ta decid give go name fascin firstli caus great help young adult transit life care job market critic miss piec lot child ngo work train soft skill hospit industri realli valuabl second food great caus bad food go fail place would destin regardless went twice day back everyth great though wine expens nice keep great work',\n",
       " 'actual first restaur went india disappoint clean tourist food realli good would visit',\n",
       " 'came tour group extrem happi aspect restaur food delici staff love interior nice also definit kitchen great caus',\n",
       " 'food servic kitchen caus superb one best meal two week travel india vari menu choos would definit visit',\n",
       " 'better restaur serv delici food good caus time restaur train young peopl street help get hospit servic peopl otherwis chanc get good life given great opportun climb social mobil ladder staff profession polit well train veggi platter great definit recommend place back next time delhi',\n",
       " 'kitchen caus restaur serv delici food made serv peopl attend hospit train program realli reason come delhi go great',\n",
       " 'food outstand great atmospher good servic even though big group love idea behind restaur chang peopl life',\n",
       " 'amaz food amaz staff amaz caus love eat place help kid food great highli recommend',\n",
       " 'kitchen caus excel organ train kid hospit help get street success india intern servic food great visit ever india',\n",
       " 'place great food like place teh citi great food would highli return anoth meal',\n",
       " 'ate destin learn restaur train former street kid hospit industri help find employ complet train good enough reason us eat mid afternoon quiet greet love young ladi taken tabl enjoy butter chicken bread basket food delici servic quick friendli partway long shop street struggl bit find peopl along way seem know easili direct worth visit spectacular place type work need support',\n",
       " 'great littl restaur next shop street food tasti servic excel place social philosophi help street children better futur love',\n",
       " 'excel meal sauc thick beauti spice bread need make sure none sauc left behind great select drink staff warm welcom',\n",
       " 'visit restaur group friend recent vari order place choic excel complaint would highli recommend restaur qualiti food servic mention great work local commun pat mandi',\n",
       " 'visit recent night row good food amaz caus even better visit famili differ thing night everyth great staff atmostpher awsom',\n",
       " 'visit friend recent non veg tandoori platter delici honest bit much one person coupl would recommend one less fill veg dish happi visit',\n",
       " 'matur singl travel look good food experi surpris waiter told space place despit three quarter empti shame unabl review food mayb work seat area good establish happi take busi',\n",
       " 'love great food welcom staff good vibe restaur chang live love place came back sever time',\n",
       " 'stay nearbi karol bagh want quick dinner first even saw review trip advisor decid tri like much came back next even tri dish chicken tikka masala absolut amaz hous specialti chicken next night complet differ style wonder staff help pleasant place clean includ washroom highli recommend',\n",
       " 'one first place ate india easili best food delici cocktail great hospit outstand restaur well decor definit eat delhi',\n",
       " 'realli good food servic also serv alcohol meet dish great know also help develop less fortun peopl',\n",
       " 'restaur great food refreshingli new consept help less fortun youth develop skill set hospit industri set foot toward better futur miss naiza chicken dhungari dal makhani also great deal drink happi hour',\n",
       " 'easi restaur focus western feel easi idea train homeless peopl trade hospit industri food good bit expens silli good caus think bill rupe two lot eat',\n",
       " 'visit place read review trip advisor dissapoint staff attent food delici atmospher great fantast caus would highli recommend visit',\n",
       " 'visit restaur friend see review tripadvisor eat food find tast upto mark ambianc fine first formost thing tast food upto mark visit',\n",
       " 'realli good food bazaar area delhi wemt twice day delhi realli enjoy food servic',\n",
       " 'feelingon open time came howev prepar visit store mi local store dish neatli quickli make thank tasteher bread good hot softli bread color definit differ street store',\n",
       " 'ate first night dehli love decor ambienc staff attent friendli food averag good price averag food friendli staff limit english',\n",
       " 'went lunch love everyth includ caus owner take youth live street help train kitchen actual shut orient went made room us made us feel welcom food absolut amaz owner even knowledg friend gluten allergi food fantast nice differ experiment dish menu cocktail great bathroom clean probabl one cleanest saw india overal great experi probabl one highlight stay delhi',\n",
       " 'fantast food servic atmospher plu support excel caus four time alreadi plan go return leg delhi chicken tikka masala excel great rang food tast clean staff effici help thank g adventur introduct',\n",
       " 'staff courteou take troubl go extra mile special request food order relish food appreci caus support definit suggest place good food ambienc',\n",
       " 'great menu option variou cuisin chose tri tikka masala rogan josh delici right amount heat nice atmospher clean excel servic eat',\n",
       " 'came restaur first night gadvenur tour thoroughli enjoy food delici thoroughli enjoy everyon els restaur clean modern would happili go',\n",
       " 'restaur realli nice food great peopl chang world purpos help children live street learn job train session restaur fantist',\n",
       " 'locat pretti central crowdi restaur modern style clean staff help food delici expect mean bad expect higher ismt expens other restaur anyway afford valu medium rang place bad good',\n",
       " 'great food love servic peopl friendli warm servic quick food beauti',\n",
       " 'restaur wild street karol bagh share green lentil daal naan rich delici staff polit love idea behind restaur train underprivileg peopl hospit industri provid better futur get sick eat',\n",
       " 'food simpli amaz delici servic also damn good restaur',\n",
       " 'last day delhi found place realli nice tasti food kitchen cours good thing support',\n",
       " 'went twice time good food awesom pleas tri chicken tika masala garlic bread favorit place eat servic superb owner alway',\n",
       " 'kitchen caus perfect place kickoff visit delhi step chao food delici act train ground staff way move new life went three time recent trip india day arriv day said goodby fellow travel day left time tri differ thing good recommend veggi curri palak paneer may cost bit place worth everi penni',\n",
       " 'friend arriv delhi exhaust cultur shock time even come one thought mind food want tri local indian cuisin without take much risk delhi street food delhibelli recommend kitchen caus kwac tour compani turn good thing came trip hop cab travel market restaur locat kwac small refug chao downtown new delhi atmospher invit staff friendli quickli feel right home earn ambianc menu extens without overwhelm good select drink menu well extens varieti vegetarian menu item well item meat eater alik order butter chicken side garlic naan delici friend chose appet vegetarian section menu impress flavor qualiti food restaur clean servic great quick polit els support local commun justifi price food expens meal tend cost would local place would absolut recommend restaur anyon visit new delhi',\n",
       " 'beauti vibrant place staff made us feel welcom super friendli impress quick smooth servic ofcours amaz curri india murrakan chicken second time tikka masala first time garlic naan amaz visit place great time guy',\n",
       " 'went restaur twice whist stay delhi wish could gone food drink staff excel book line staff greet name occas like old friend second night dal makhani amaz',\n",
       " 'tempt menu tasti food good kwac went back second time enjoy best meal india made mealtim even special atmospher staff friendli help fault servic restaur modern clean fact feel place quirki street london would highli recommend tri delici dish delhi know time contribut great caus aim improv live young peopl star',\n",
       " 'look somewher eat karol bagh support good caus time place wife spent week first tour india although season asia travel commenc end tour independ day karol bagh discov littl gem clean friendli food great bonu us non veg select vari enough us tri differ dish even portion larg probabl could got away one meal two us servic excel particularli given staff learn rope cours whilst away tour restaur got liquor licenc ad bonu upon return new delhi could beer meal get busi earli eater pm road found abl get tabl without book give go sorri well done owner manag keep great work',\n",
       " 'say food overpr qualiti take account good work kitchen money worth servic food averag good select indian chines western food without overwhelm menu feel like book serv alcohol wide varieti mocktail soft drink avail place big use g adventur group frequent may requir book go earli late',\n",
       " 'ate kitchen witha caus earli trip india like well made sure last indian meal staff attent help food delici complimentari appet pickl shallot mint sauc ad touch serv enhanc experi also impress work restaur provid train opportun street kid hard beat restaur except staff great food social conscienc',\n",
       " 'far favourit restaur eat india mani reason staff warm friendli restaur super clean sometim hard find delhi food incred best part restaur howev heart love good work give back commun great way honour meet owner incred peopl realli want make posit impact countri',\n",
       " 'restaur clean waiter friendli father like much went three day row expert india food end india trip know bit food amaz food like lot place intern spicey howev like spicey tell waiter spicey want less tourist style summari amaz food waiter everi one go visit delhi ps test vegetarian food',\n",
       " 'hard time find place first time went dinner middl busi open market karol bagh district delhi staff friendli servic effici moder price present food good love free pickl shallot green creami mint sauc afghani chicken first time chicken tandoori second third time veget good spici tast naan delici ate thanksgiv dinner tour advisor driver dine go back delhi',\n",
       " 'tri seek restaur charit caus travel one great caus read elsewher last long food good luckili great say good locat near hotel tour group frequent comfort insid great servic earlier review comment licenc plenti choos even randomli jagerbomb',\n",
       " 'place good atmospher friendli staff divin food best chicken life kwac driven good heart give great opportun someth good other eat go find',\n",
       " 'travel delhi lunch kitchen caus restaur good food modern look clean addit great place eat restaur give apprenticeship street kid rescu live shelter provivid skill becom employ servic industri give futur go wrong great food great caus one',\n",
       " 'excel meal clean hygien kitchen staff friendli prompt one enjoy meal india',\n",
       " 'case karol bagh elsewher delhi must visit wonder place oasi insid bustl market offer wonder drink food veg non veg dine everi day spent delhi never disappoint pleas go support wonder project give street kid futur',\n",
       " 'great food even better concept staff realli nice helpful would definit recommend place',\n",
       " 'ate twice whilst delhi enjoy much first time took friend tour group us second visit menu wide rang chines continent option well indian chef special veg platter delici never believ soya protein could tast good portion gener care like want tri mani differ option indian menu possibl visit liquor licenc let stop mango lassi delici second visit eight us everyon agre best meal whilst tour india restaur spotlessli clean whilst furnitur simpl stun photo wall beauti pictur look made quilt believ kitchen caus nice feel abl support hard work effort small way eat kwac favour eat ever delhi regret',\n",
       " 'great restaur nestl bustl karol bagh district caus well help train street children work restaur thu give job futur littl wari tri street food pop total authent indian grub worri use filter water amaz mutton curri jeera rice mango lassi tasti clean western toilet',\n",
       " 'fantast lunch kitchen caus servic impecc food delici great caus highli recommend look somewher eat delhi',\n",
       " 'best mutton rara life even better hospit even bigger caus hand best luck',\n",
       " 'funki littl spot chill delici food mocktail listen killer playlist support worthi caus servic fantast noth much troubl bill split easili special dietari requir cater food came quickli felt right home',\n",
       " 'found restaur near stay great staff excel food good gluten free option reason price',\n",
       " 'tuck ground floor hotel good palac lane near ajmal khan road karol bagh easili access foot rickshaw tuk tuk minut walk karol bagh metro station eaten sever time solo group never disappoint place simpli furnish bright clean menu offer varieti indian asian fare vegetarian meat base vegan option augment pizza pasta altern alway adequ staff servic courteou profession fairli prompt person recommend naan vegetarian curri expect pay inr inr per person includ drink tax tip',\n",
       " 'food fantast staff friendli attent fantast caus provid street children skill life help poverti definit worth visit',\n",
       " 'great place even greater caus kid still talk tasti meal rare happen upon spot arriv delhi look place eat near hotel walk distanc said kid friendli tri fell even love purpos arriv learn tri go back full other know good mayb go earli doubl check need go specif time bon appetit',\n",
       " 'came special place start guid tour around india good come back last night leav delhi kitchen caus give local street kid internship opportun learn in out restaur industri also provid incom food wonder servic even better highli recommend support caus come check uniqu place also decor dang cute regret',\n",
       " 'daughter visit dinner offer rang vegan dish manag understood eat dairi even made us creamiest vegan korma servic excel nice see manag train wait staff told us open month get drink licenc soon visit delhi definit eat food amaz help chang young peopl live',\n",
       " 'manag help well waitress get six month train allow get job chicken tika masala wonder would gladli come back easi reach mani hotel karol bagh',\n",
       " 'great safe place eat good menu fair price precis want ask mix like recommend',\n",
       " 'partner lunch kitchen caus recent absolut love wait staff made us feel like star food outstand despit hustl bustl everyth around restaur feel like oasi surprisingli quiet great music would highli recommend',\n",
       " 'think perfect place european atmospher nice normal standard mani place india felt creepi restaur much cleaner indian standard food shake tasti safe besid use paper straw less plastic wast',\n",
       " 'went kitchen caus twice delhi love experi staff friendli restaur clean decor beauti food tri delici drink mocktail shake tasti refresh addit felt good know support good caus absolut recommend restaur',\n",
       " 'great meal tad pricey compar therr worth think recommend chef select enough two peopl complaint lack alcohol',\n",
       " 'love much meal day delhi spotless food tasti well present bathroom clean staff love friendli felt safe eat kept come back restaur tour compani use g adventur support recommend understand train employ former street kid back home mouth water think love food favourit restaur week india',\n",
       " 'thought place averag food focu might commun build wrong good see great food clean restaur social caus work hand hand highli recommend',\n",
       " 'thought might tourist trap one best meal india tasti also love even women server progress place india good caus',\n",
       " 'delight restaur ambianc delici well present food valu money polit help staff shall definit return',\n",
       " 'good food servic nice place scape nois toilet clean miss cold beer seem applyig licens',\n",
       " 'oasi middl hot dusti noisi mid summer mad karol bagh market district great food fantast varieti excel servic clean harmoni hygien environ',\n",
       " 'realli clean food cheap delici perfect peopl holiday unsur eat brilliant initi help peopl street',\n",
       " 'partial support canadian travel compani g adventur kitchen caus give opportun street children start career learn skill allow surviv grow hectic world delhi one owner tour guid fantast indian adventur abhi passion care knowledg heart right place visit place lend support great caus',\n",
       " 'great food worth visit new delhi staff friendli servic excel visit first night last night delhi',\n",
       " 'g adventur guid took us notic mani tourist group love place realli good food reason price went twice stay realli enjoy food great select drink well like million mosquito someth',\n",
       " 'came group great even delici food immacul servic clean wonder ethic background busi best meal india',\n",
       " 'went place via g adventur assur food safe tasti vegetarian option delici',\n",
       " 'dinner street kitchen gave warm fuzzi well nice reason price meal staff orphan train given job help along great job photo wall restaur beauti photo presum photo orphan food good shake delici street kitchen rang indian western food includ pizza serv vegetarian non vegetarian meal',\n",
       " 'street kitchen grill restaur help young local peopl india grew orphanag owner provid job order guid toward independ amaz way give back commun realli like menu vari get local indian dish well thing like pasta burger vegan non vegan option great ambianc restaur modern youth wall decor pictur young local kid transmit posit server nice first thing welcom alway disposit',\n",
       " 'restaur modern beauti decor fantast job give back commun train disadvantag youth train servic industri pretti new restaur concept realli done great job food fantast get dahl mahkani regret',\n",
       " 'went street kitchen grill friend delhi busi tour attract ambianc modern decor restaur run two young men greet us humbl inform mr govind told us food option avail order food servic excel menu reason price food serv tasti surli visit place futur recommend chicken meat item call dhuad mass good',\n",
       " 'great project support local peopl better restaur love atmospher decor modern menu someth everyon food delici everyon group pleas meal',\n",
       " 'serv excel food also train place young peopl servic excel offer extens menu well special good price eaten number time alway spot',\n",
       " 'univers field school realli great meal great servic also inspir chat owner social innov model help street kid develop skill hospit industri wonder food',\n",
       " 'clean place look like new modern industri style good food owner ask satisfi veg spaghetti european style mango lassi jami',\n",
       " 'daughter ate two day row tradit authent indian food delici portion gener staff friendli attent speak english menu good varieti english premis clean decor nice price reason',\n",
       " 'came g adventur group first meal india probabl best meal fault',\n",
       " 'street kitchen amaz love food delici menu vari best thing restaur support disadvantag kid young peopl offer opportun gain employ better futur must tri delhi eat best food good caus',\n",
       " 'went back food good best trip india clean friendli place dont miss one',\n",
       " 'went back place food amaz ate indian food use herb food cannot get anywher els take look special money make help poor street children gener tip place brand new feb look nice skip delhi',\n",
       " 'shop karol bagh look place eat take break shop friendli english speak staff order dal butter chicken tasti mild restroom clean interest convers owner govind jha explain part busi model take street kid train waiter could enter hospit industri',\n",
       " 'ate group two occas menu vari plenti food food good qualiti sit back enjoy mocktail pickl onion whilst young peopl support make way world restaur support young peopl offer opportun gain employ hope futur career restaur modern contemporari numer black white photo wall owner travel great caus great food',\n",
       " 'delhi long made point return restaur second visit last night knew food would delici well present reason price whole place clean great loo beauti decor photo street kid adorn wall stun etho support street kid work fabul evid occasion confus young staff abli support manag genuin project make differ peopl live said worth visit food alon drink licenc yet plenti lassi mocktail offer servic prompt help friendli thoroughli recommend',\n",
       " 'great meal start group tour india newli open cope well larg group everi person group enjoy meal one complaint still sort liquor licenc best thing restaur take disadvantag kid teach restaur busi run go get job high end place offer larger wage tip allow better standard live also famili well done',\n",
       " 'travel group total found gem restaur last day delhi happier decor hip modern emphas restaur aim help children commun owner greet us door made us feel right home recommend excel dish particular chicken biryani serv clay pot browni sizzler miss disappoint anoth day come back tri thing menu',\n",
       " 'street kitchen grill amaz come twice love much food delici best trip far mr bhatt staff welcom gave us recommend order fantast also got meet chef cook amaz food',\n",
       " 'mr bhatt owner convinc us allow order us best decis great tast dish conjur chef perfectli hit spot',\n",
       " 'perfect meal great place atmospher attent staff great vibe visit delhi without come first',\n",
       " 'tour group first meal india made feel instantli welcom manag came introduc food incred apart best present food trip tast love stuck vegetarian meat receiv good comment group definit recommend',\n",
       " 'lip smack delici food cool ambienc home vibe realli help friendli staff also great initi give back commun',\n",
       " 'great ambianc super servic food qualiti everi thing make son birthday special',\n",
       " 'group travel enjoy food drink street kitchen dinner twice tour india start drink larg select smoothi shake lassi juic freshli prepar art present food choic made good select tradit indian vegetarian non vegetarian dish well salad chines continent dish food drink delici beauti present enjoy member group']"
      ]
     },
     "execution_count": 14,
     "metadata": {},
     "output_type": "execute_result"
    }
   ],
   "source": [
    "corpus"
   ]
  },
  {
   "cell_type": "code",
   "execution_count": 15,
   "metadata": {},
   "outputs": [],
   "source": [
    "new_df = df"
   ]
  },
  {
   "cell_type": "code",
   "execution_count": 16,
   "metadata": {},
   "outputs": [],
   "source": [
    "new_df['cleaned'] = corpus"
   ]
  },
  {
   "cell_type": "code",
   "execution_count": 17,
   "metadata": {},
   "outputs": [
    {
     "data": {
      "text/html": [
       "<div>\n",
       "<style scoped>\n",
       "    .dataframe tbody tr th:only-of-type {\n",
       "        vertical-align: middle;\n",
       "    }\n",
       "\n",
       "    .dataframe tbody tr th {\n",
       "        vertical-align: top;\n",
       "    }\n",
       "\n",
       "    .dataframe thead th {\n",
       "        text-align: right;\n",
       "    }\n",
       "</style>\n",
       "<table border=\"1\" class=\"dataframe\">\n",
       "  <thead>\n",
       "    <tr style=\"text-align: right;\">\n",
       "      <th></th>\n",
       "      <th>Unnamed: 0</th>\n",
       "      <th>bubble_rating</th>\n",
       "      <th>review_date</th>\n",
       "      <th>review_paragraph</th>\n",
       "      <th>review_title</th>\n",
       "      <th>site</th>\n",
       "      <th>cleaned</th>\n",
       "    </tr>\n",
       "  </thead>\n",
       "  <tbody>\n",
       "    <tr>\n",
       "      <td>0</td>\n",
       "      <td>0</td>\n",
       "      <td>5</td>\n",
       "      <td>11 March 2020</td>\n",
       "      <td>This place is swarming with Gadventurers and CEOs and the food is quite good, especially their garlic naan, my favorite.  Almost all their dishes are exceptionally good.  Came here three times and tried different dishes on the menu....never disappointed.</td>\n",
       "      <td>Great Indian Food For a Cause</td>\n",
       "      <td>TripAdvisor</td>\n",
       "      <td>place swarm gadventur ceo food quit good especi garlic naan favorit almost dish except good came three time tri differ dish menu never disappoint</td>\n",
       "    </tr>\n",
       "    <tr>\n",
       "      <td>1</td>\n",
       "      <td>1</td>\n",
       "      <td>5</td>\n",
       "      <td>11 March 2020</td>\n",
       "      <td>Visited about a week ago and we  were very impressed with the food service and gereral ambience of this very clean and slick restaurant. It is well worth a visit if in the area and prices are good. We will be returning soon.</td>\n",
       "      <td>Dinner</td>\n",
       "      <td>TripAdvisor</td>\n",
       "      <td>visit week ago impress food servic gerer ambienc clean slick restaur well worth visit area price good return soon</td>\n",
       "    </tr>\n",
       "    <tr>\n",
       "      <td>2</td>\n",
       "      <td>2</td>\n",
       "      <td>5</td>\n",
       "      <td>2 March 2020</td>\n",
       "      <td>I enjoyed a fantastic meal at KWAC thanks to Brikash Sharma our excellent guide while spending sometime in New Delhi recently. We were a table of 15+ South Africans so appreciated the giving back ethos of supporting the under privileged and street people. My meal was delicious and well priced. I highly recommend to all “westerners” wanting to support local smaller restaurants. Namaste</td>\n",
       "      <td>Kitchen with a Cause - FANTASTIC</td>\n",
       "      <td>TripAdvisor</td>\n",
       "      <td>enjoy fantast meal kwac thank brikash sharma excel guid spend sometim new delhi recent tabl south african appreci give back etho support privileg street peopl meal delici well price highli recommend western want support local smaller restaur namast</td>\n",
       "    </tr>\n",
       "    <tr>\n",
       "      <td>3</td>\n",
       "      <td>3</td>\n",
       "      <td>5</td>\n",
       "      <td>25 February 2020</td>\n",
       "      <td>This is a lovely hidden gem in Karol Bagh, walking distance from the metro. The restaurant is beautiful with great food at reasonable prices. The staff is friendly &amp; competent also goes the extra mile if you want to celebrate a birthday or get together. They baked the most delicious chocolate cake and made my friends birthday extra special. So happy our tour guide Miksa took us there. I can highly recommend this restaurant to all my traveling buddies &amp; friends visiting Delhi from South Africa.</td>\n",
       "      <td>Intrepid Tour experience</td>\n",
       "      <td>TripAdvisor</td>\n",
       "      <td>love hidden gem karol bagh walk distanc metro restaur beauti great food reason price staff friendli compet also goe extra mile want celebr birthday get togeth bake delici chocol cake made friend birthday extra special happi tour guid miksa took us highli recommend restaur travel buddi friend visit delhi south africa</td>\n",
       "    </tr>\n",
       "    <tr>\n",
       "      <td>4</td>\n",
       "      <td>4</td>\n",
       "      <td>5</td>\n",
       "      <td>23 February 2020</td>\n",
       "      <td>The restaurant is a social project, so 5 stars just for it. Talking about the restaurant:- Food: wide variety of Indian dishes- Service: super kind and fast- Quality: very good (although some dishes are interpreted in the wrong way, the springs rolls and the fried rice. They were good and tasty, but do not expect the \"traditional\" dish).- Place: super clean - Price: super fair!Therefore, I would surely come back. :)</td>\n",
       "      <td>Great restaurant!</td>\n",
       "      <td>TripAdvisor</td>\n",
       "      <td>restaur social project star talk restaur food wide varieti indian dish servic super kind fast qualiti good although dish interpret wrong way spring roll fri rice good tasti expect tradit dish place super clean price super fair therefor would sure come back</td>\n",
       "    </tr>\n",
       "    <tr>\n",
       "      <td>...</td>\n",
       "      <td>...</td>\n",
       "      <td>...</td>\n",
       "      <td>...</td>\n",
       "      <td>...</td>\n",
       "      <td>...</td>\n",
       "      <td>...</td>\n",
       "      <td>...</td>\n",
       "    </tr>\n",
       "    <tr>\n",
       "      <td>206</td>\n",
       "      <td>6</td>\n",
       "      <td>5</td>\n",
       "      <td>19 February 2018</td>\n",
       "      <td>A perfect meal and a great place and atmosphere - attentive staff and had a great vibe, we wouldn’t visit Delhi again without coming here first!</td>\n",
       "      <td>Perfect Visit in heart of Dehli</td>\n",
       "      <td>TripAdvisor</td>\n",
       "      <td>perfect meal great place atmospher attent staff great vibe visit delhi without come first</td>\n",
       "    </tr>\n",
       "    <tr>\n",
       "      <td>207</td>\n",
       "      <td>7</td>\n",
       "      <td>5</td>\n",
       "      <td>19 February 2018</td>\n",
       "      <td>This was our tour groups first meal in India, and we were made to feel instantly welcome. The manager came to introduce himself and the food was incredible. Apart from being the best presented food we had during our trip, it tasted lovely too. I stuck with vegetarian, but the meat received good comments from our group too. A definite recommendation.</td>\n",
       "      <td>Excellent food and vibe</td>\n",
       "      <td>TripAdvisor</td>\n",
       "      <td>tour group first meal india made feel instantli welcom manag came introduc food incred apart best present food trip tast love stuck vegetarian meat receiv good comment group definit recommend</td>\n",
       "    </tr>\n",
       "    <tr>\n",
       "      <td>208</td>\n",
       "      <td>8</td>\n",
       "      <td>5</td>\n",
       "      <td>17 February 2018</td>\n",
       "      <td>Lip smacking, delicious food, cool ambience, homely vibe with a really helpful and friendly staff.Also great initiative - giving back to the community!!!</td>\n",
       "      <td>Delicious food</td>\n",
       "      <td>TripAdvisor</td>\n",
       "      <td>lip smack delici food cool ambienc home vibe realli help friendli staff also great initi give back commun</td>\n",
       "    </tr>\n",
       "    <tr>\n",
       "      <td>209</td>\n",
       "      <td>9</td>\n",
       "      <td>5</td>\n",
       "      <td>16 February 2018</td>\n",
       "      <td>Great ambiance and super service with their food quality. They did every thing to make my son birthday special.</td>\n",
       "      <td>Best Birthday party ever</td>\n",
       "      <td>TripAdvisor</td>\n",
       "      <td>great ambianc super servic food qualiti everi thing make son birthday special</td>\n",
       "    </tr>\n",
       "    <tr>\n",
       "      <td>210</td>\n",
       "      <td>0</td>\n",
       "      <td>5</td>\n",
       "      <td>11 February 2018</td>\n",
       "      <td>Our group of travellers enjoyed the food and drinks at Street Kitchen for dinner twice while on a tour of India. We started with drinks from their large selection of smoothies, shakes, lassi and juices, all freshly prepared and artfully presented. Our food choices were made from a good selection of traditional Indian vegetarian and non-vegetarian dishes as well as salads, Chinese and Continental dishes. The food and drinks were delicious, beautifully presented and enjoyed by all members of our group.</td>\n",
       "      <td>Artfully presented delicious food</td>\n",
       "      <td>TripAdvisor</td>\n",
       "      <td>group travel enjoy food drink street kitchen dinner twice tour india start drink larg select smoothi shake lassi juic freshli prepar art present food choic made good select tradit indian vegetarian non vegetarian dish well salad chines continent dish food drink delici beauti present enjoy member group</td>\n",
       "    </tr>\n",
       "  </tbody>\n",
       "</table>\n",
       "<p>211 rows × 7 columns</p>\n",
       "</div>"
      ],
      "text/plain": [
       "     Unnamed: 0  bubble_rating       review_date  \\\n",
       "0    0           5              11 March 2020      \n",
       "1    1           5              11 March 2020      \n",
       "2    2           5              2 March 2020       \n",
       "3    3           5              25 February 2020   \n",
       "4    4           5              23 February 2020   \n",
       "..  ..          ..                           ...   \n",
       "206  6           5              19 February 2018   \n",
       "207  7           5              19 February 2018   \n",
       "208  8           5              17 February 2018   \n",
       "209  9           5              16 February 2018   \n",
       "210  0           5              11 February 2018   \n",
       "\n",
       "                                                                                                                                                                                                                                                                                                                                                                                                                                                                                                              review_paragraph  \\\n",
       "0    This place is swarming with Gadventurers and CEOs and the food is quite good, especially their garlic naan, my favorite.  Almost all their dishes are exceptionally good.  Came here three times and tried different dishes on the menu....never disappointed.                                                                                                                                                                                                                                                              \n",
       "1    Visited about a week ago and we  were very impressed with the food service and gereral ambience of this very clean and slick restaurant. It is well worth a visit if in the area and prices are good. We will be returning soon.                                                                                                                                                                                                                                                                                            \n",
       "2    I enjoyed a fantastic meal at KWAC thanks to Brikash Sharma our excellent guide while spending sometime in New Delhi recently. We were a table of 15+ South Africans so appreciated the giving back ethos of supporting the under privileged and street people. My meal was delicious and well priced. I highly recommend to all “westerners” wanting to support local smaller restaurants. Namaste                                                                                                                         \n",
       "3    This is a lovely hidden gem in Karol Bagh, walking distance from the metro. The restaurant is beautiful with great food at reasonable prices. The staff is friendly & competent also goes the extra mile if you want to celebrate a birthday or get together. They baked the most delicious chocolate cake and made my friends birthday extra special. So happy our tour guide Miksa took us there. I can highly recommend this restaurant to all my traveling buddies & friends visiting Delhi from South Africa.          \n",
       "4    The restaurant is a social project, so 5 stars just for it. Talking about the restaurant:- Food: wide variety of Indian dishes- Service: super kind and fast- Quality: very good (although some dishes are interpreted in the wrong way, the springs rolls and the fried rice. They were good and tasty, but do not expect the \"traditional\" dish).- Place: super clean - Price: super fair!Therefore, I would surely come back. :)                                                                                         \n",
       "..                                                                                                                                                                                                                                                                                                                                                                                                                                   ...                                                                                         \n",
       "206  A perfect meal and a great place and atmosphere - attentive staff and had a great vibe, we wouldn’t visit Delhi again without coming here first!                                                                                                                                                                                                                                                                                                                                                                            \n",
       "207  This was our tour groups first meal in India, and we were made to feel instantly welcome. The manager came to introduce himself and the food was incredible. Apart from being the best presented food we had during our trip, it tasted lovely too. I stuck with vegetarian, but the meat received good comments from our group too. A definite recommendation.                                                                                                                                                             \n",
       "208  Lip smacking, delicious food, cool ambience, homely vibe with a really helpful and friendly staff.Also great initiative - giving back to the community!!!                                                                                                                                                                                                                                                                                                                                                                   \n",
       "209  Great ambiance and super service with their food quality. They did every thing to make my son birthday special.                                                                                                                                                                                                                                                                                                                                                                                                             \n",
       "210  Our group of travellers enjoyed the food and drinks at Street Kitchen for dinner twice while on a tour of India. We started with drinks from their large selection of smoothies, shakes, lassi and juices, all freshly prepared and artfully presented. Our food choices were made from a good selection of traditional Indian vegetarian and non-vegetarian dishes as well as salads, Chinese and Continental dishes. The food and drinks were delicious, beautifully presented and enjoyed by all members of our group.   \n",
       "\n",
       "                          review_title         site  \\\n",
       "0    Great Indian Food For a Cause      TripAdvisor   \n",
       "1    Dinner                             TripAdvisor   \n",
       "2    Kitchen with a Cause - FANTASTIC   TripAdvisor   \n",
       "3    Intrepid Tour experience           TripAdvisor   \n",
       "4    Great restaurant!                  TripAdvisor   \n",
       "..                 ...                          ...   \n",
       "206  Perfect Visit in heart of Dehli    TripAdvisor   \n",
       "207  Excellent food and vibe            TripAdvisor   \n",
       "208  Delicious food                     TripAdvisor   \n",
       "209  Best Birthday party ever           TripAdvisor   \n",
       "210  Artfully presented delicious food  TripAdvisor   \n",
       "\n",
       "                                                                                                                                                                                                                                                                                                                           cleaned  \n",
       "0    place swarm gadventur ceo food quit good especi garlic naan favorit almost dish except good came three time tri differ dish menu never disappoint                                                                                                                                                                              \n",
       "1    visit week ago impress food servic gerer ambienc clean slick restaur well worth visit area price good return soon                                                                                                                                                                                                              \n",
       "2    enjoy fantast meal kwac thank brikash sharma excel guid spend sometim new delhi recent tabl south african appreci give back etho support privileg street peopl meal delici well price highli recommend western want support local smaller restaur namast                                                                       \n",
       "3    love hidden gem karol bagh walk distanc metro restaur beauti great food reason price staff friendli compet also goe extra mile want celebr birthday get togeth bake delici chocol cake made friend birthday extra special happi tour guid miksa took us highli recommend restaur travel buddi friend visit delhi south africa  \n",
       "4    restaur social project star talk restaur food wide varieti indian dish servic super kind fast qualiti good although dish interpret wrong way spring roll fri rice good tasti expect tradit dish place super clean price super fair therefor would sure come back                                                               \n",
       "..                                                                                                                                                                                                                                                                ...                                                               \n",
       "206  perfect meal great place atmospher attent staff great vibe visit delhi without come first                                                                                                                                                                                                                                      \n",
       "207  tour group first meal india made feel instantli welcom manag came introduc food incred apart best present food trip tast love stuck vegetarian meat receiv good comment group definit recommend                                                                                                                                \n",
       "208  lip smack delici food cool ambienc home vibe realli help friendli staff also great initi give back commun                                                                                                                                                                                                                      \n",
       "209  great ambianc super servic food qualiti everi thing make son birthday special                                                                                                                                                                                                                                                  \n",
       "210  group travel enjoy food drink street kitchen dinner twice tour india start drink larg select smoothi shake lassi juic freshli prepar art present food choic made good select tradit indian vegetarian non vegetarian dish well salad chines continent dish food drink delici beauti present enjoy member group                 \n",
       "\n",
       "[211 rows x 7 columns]"
      ]
     },
     "execution_count": 17,
     "metadata": {},
     "output_type": "execute_result"
    }
   ],
   "source": [
    "new_df"
   ]
  },
  {
   "cell_type": "code",
   "execution_count": 22,
   "metadata": {},
   "outputs": [
    {
     "ename": "NameError",
     "evalue": "name 'CountVectorizer' is not defined",
     "output_type": "error",
     "traceback": [
      "\u001b[1;31m---------------------------------------------------------------------------\u001b[0m",
      "\u001b[1;31mNameError\u001b[0m                                 Traceback (most recent call last)",
      "\u001b[1;32m<ipython-input-22-95e6dd2d4a5b>\u001b[0m in \u001b[0;36m<module>\u001b[1;34m\u001b[0m\n\u001b[1;32m----> 1\u001b[1;33m \u001b[0mvec\u001b[0m \u001b[1;33m=\u001b[0m \u001b[0mCountVectorizer\u001b[0m\u001b[1;33m(\u001b[0m\u001b[1;33m)\u001b[0m\u001b[1;33m.\u001b[0m\u001b[0mfit\u001b[0m\u001b[1;33m(\u001b[0m\u001b[0mcorpus\u001b[0m\u001b[1;33m)\u001b[0m\u001b[1;33m\u001b[0m\u001b[1;33m\u001b[0m\u001b[0m\n\u001b[0m\u001b[0;32m      2\u001b[0m \u001b[0mbag_of_words\u001b[0m \u001b[1;33m=\u001b[0m \u001b[0mvec\u001b[0m\u001b[1;33m.\u001b[0m\u001b[0mtransform\u001b[0m\u001b[1;33m(\u001b[0m\u001b[0mcorpus\u001b[0m\u001b[1;33m)\u001b[0m\u001b[1;33m\u001b[0m\u001b[1;33m\u001b[0m\u001b[0m\n\u001b[0;32m      3\u001b[0m \u001b[0msum_words\u001b[0m \u001b[1;33m=\u001b[0m \u001b[0mbag_of_words\u001b[0m\u001b[1;33m.\u001b[0m\u001b[0msum\u001b[0m\u001b[1;33m(\u001b[0m\u001b[0maxis\u001b[0m\u001b[1;33m=\u001b[0m\u001b[1;36m0\u001b[0m\u001b[1;33m)\u001b[0m\u001b[1;33m\u001b[0m\u001b[1;33m\u001b[0m\u001b[0m\n\u001b[0;32m      4\u001b[0m \u001b[0mwords_freq\u001b[0m \u001b[1;33m=\u001b[0m \u001b[1;33m[\u001b[0m\u001b[1;33m(\u001b[0m\u001b[0mword\u001b[0m\u001b[1;33m,\u001b[0m \u001b[0msum_words\u001b[0m\u001b[1;33m[\u001b[0m\u001b[1;36m0\u001b[0m\u001b[1;33m,\u001b[0m \u001b[0midx\u001b[0m\u001b[1;33m]\u001b[0m\u001b[1;33m)\u001b[0m \u001b[1;32mfor\u001b[0m \u001b[0mword\u001b[0m\u001b[1;33m,\u001b[0m \u001b[0midx\u001b[0m \u001b[1;32min\u001b[0m \u001b[0mvec\u001b[0m\u001b[1;33m.\u001b[0m\u001b[0mvocabulary_\u001b[0m\u001b[1;33m.\u001b[0m\u001b[0mitems\u001b[0m\u001b[1;33m(\u001b[0m\u001b[1;33m)\u001b[0m\u001b[1;33m]\u001b[0m\u001b[1;33m\u001b[0m\u001b[1;33m\u001b[0m\u001b[0m\n\u001b[0;32m      5\u001b[0m \u001b[0mwords_freq\u001b[0m \u001b[1;33m=\u001b[0m\u001b[0msorted\u001b[0m\u001b[1;33m(\u001b[0m\u001b[0mwords_freq\u001b[0m\u001b[1;33m,\u001b[0m \u001b[0mkey\u001b[0m \u001b[1;33m=\u001b[0m \u001b[1;32mlambda\u001b[0m \u001b[0mx\u001b[0m\u001b[1;33m:\u001b[0m \u001b[0mx\u001b[0m\u001b[1;33m[\u001b[0m\u001b[1;36m1\u001b[0m\u001b[1;33m]\u001b[0m\u001b[1;33m,\u001b[0m \u001b[0mreverse\u001b[0m\u001b[1;33m=\u001b[0m\u001b[1;32mTrue\u001b[0m\u001b[1;33m)\u001b[0m\u001b[1;33m\u001b[0m\u001b[1;33m\u001b[0m\u001b[0m\n",
      "\u001b[1;31mNameError\u001b[0m: name 'CountVectorizer' is not defined"
     ]
    }
   ],
   "source": [
    "vec = CountVectorizer().fit(corpus)\n",
    "bag_of_words = vec.transform(corpus)\n",
    "sum_words = bag_of_words.sum(axis=0) \n",
    "words_freq = [(word, sum_words[0, idx]) for word, idx in vec.vocabulary_.items()]\n",
    "words_freq =sorted(words_freq, key = lambda x: x[1], reverse=True)"
   ]
  },
  {
   "cell_type": "markdown",
   "metadata": {},
   "source": [
    "**Top 10 most frequent words:**"
   ]
  },
  {
   "cell_type": "code",
   "execution_count": null,
   "metadata": {},
   "outputs": [],
   "source": [
    "words_freq[:10]"
   ]
  },
  {
   "cell_type": "code",
   "execution_count": null,
   "metadata": {},
   "outputs": [],
   "source": [
    "plt.bar([words_freq[i][0] for i in range(10)],[words_freq[i][1] for i in range(10)],color =[0.2, 0.4, 0.6, 0.6])\n",
    "plt.xlabel('Most Frequent Words')\n",
    "plt.ylabel('Frequency')\n",
    "plt.title(\"Top 10 Words by Frequency\")\n",
    "plt.show()"
   ]
  },
  {
   "cell_type": "markdown",
   "metadata": {},
   "source": [
    "<h4> Word Cloud for most frequent words in the reviews </h4>"
   ]
  },
  {
   "cell_type": "code",
   "execution_count": null,
   "metadata": {},
   "outputs": [],
   "source": [
    "from wordcloud import WordCloud \n",
    "wordcloud = WordCloud(max_font_size=100, max_words=100,background_color=\"white\").generate(\" \".join(corpus))\n",
    "\n",
    "# Display the generated image:\n",
    "plt.imshow(wordcloud, interpolation='bilinear')\n",
    "plt.axis(\"off\")\n",
    "plt.show()"
   ]
  },
  {
   "cell_type": "markdown",
   "metadata": {},
   "source": [
    "# Sentiment Analysis"
   ]
  },
  {
   "cell_type": "code",
   "execution_count": null,
   "metadata": {},
   "outputs": [],
   "source": [
    "# !pip install vaderSentiment"
   ]
  },
  {
   "cell_type": "code",
   "execution_count": null,
   "metadata": {},
   "outputs": [],
   "source": [
    "from vaderSentiment.vaderSentiment import SentimentIntensityAnalyzer\n",
    "analyser = SentimentIntensityAnalyzer()"
   ]
  },
  {
   "cell_type": "code",
   "execution_count": null,
   "metadata": {},
   "outputs": [],
   "source": [
    "new_df['Score'] = 'N/a'\n",
    "new_df['Polarity'] = 'N/a'\n",
    "\n",
    "new_df['Positive Score'] = 'N/a'\n",
    "\n",
    "def sentiment_analyzer_scores():\n",
    "    for i in range(0,len(df['review_paragraph'])):\n",
    "        score = analyser.polarity_scores(df['review_paragraph'][i])\n",
    "        new_df['Score'][i] = score\n",
    "        new_df['Positive Score'][i] = float(score['pos'])\n",
    "        \n",
    "        if score['pos'] >= 0.08 : \n",
    "            new_df['Polarity'][i] = \"Positive\" \n",
    "        elif score['neg'] >= 0.05 : \n",
    "            new_df['Polarity'][i] = \"Negative\"\n",
    "        elif score['neu'] >= 0.05: \n",
    "            new_df['Polarity'][i] = \"Neutral\""
   ]
  },
  {
   "cell_type": "code",
   "execution_count": null,
   "metadata": {},
   "outputs": [],
   "source": [
    "sentiment_analyzer_scores()"
   ]
  },
  {
   "cell_type": "code",
   "execution_count": 19,
   "metadata": {},
   "outputs": [
    {
     "data": {
      "text/html": [
       "<div>\n",
       "<style scoped>\n",
       "    .dataframe tbody tr th:only-of-type {\n",
       "        vertical-align: middle;\n",
       "    }\n",
       "\n",
       "    .dataframe tbody tr th {\n",
       "        vertical-align: top;\n",
       "    }\n",
       "\n",
       "    .dataframe thead th {\n",
       "        text-align: right;\n",
       "    }\n",
       "</style>\n",
       "<table border=\"1\" class=\"dataframe\">\n",
       "  <thead>\n",
       "    <tr style=\"text-align: right;\">\n",
       "      <th></th>\n",
       "      <th>Unnamed: 0</th>\n",
       "      <th>bubble_rating</th>\n",
       "      <th>review_date</th>\n",
       "      <th>review_paragraph</th>\n",
       "      <th>review_title</th>\n",
       "      <th>site</th>\n",
       "      <th>cleaned</th>\n",
       "    </tr>\n",
       "  </thead>\n",
       "  <tbody>\n",
       "    <tr>\n",
       "      <td>0</td>\n",
       "      <td>0</td>\n",
       "      <td>5</td>\n",
       "      <td>11 March 2020</td>\n",
       "      <td>This place is swarming with Gadventurers and CEOs and the food is quite good, especially their garlic naan, my favorite.  Almost all their dishes are exceptionally good.  Came here three times and tried different dishes on the menu....never disappointed.</td>\n",
       "      <td>Great Indian Food For a Cause</td>\n",
       "      <td>TripAdvisor</td>\n",
       "      <td>place swarm gadventur ceo food quit good especi garlic naan favorit almost dish except good came three time tri differ dish menu never disappoint</td>\n",
       "    </tr>\n",
       "    <tr>\n",
       "      <td>1</td>\n",
       "      <td>1</td>\n",
       "      <td>5</td>\n",
       "      <td>11 March 2020</td>\n",
       "      <td>Visited about a week ago and we  were very impressed with the food service and gereral ambience of this very clean and slick restaurant. It is well worth a visit if in the area and prices are good. We will be returning soon.</td>\n",
       "      <td>Dinner</td>\n",
       "      <td>TripAdvisor</td>\n",
       "      <td>visit week ago impress food servic gerer ambienc clean slick restaur well worth visit area price good return soon</td>\n",
       "    </tr>\n",
       "    <tr>\n",
       "      <td>2</td>\n",
       "      <td>2</td>\n",
       "      <td>5</td>\n",
       "      <td>2 March 2020</td>\n",
       "      <td>I enjoyed a fantastic meal at KWAC thanks to Brikash Sharma our excellent guide while spending sometime in New Delhi recently. We were a table of 15+ South Africans so appreciated the giving back ethos of supporting the under privileged and street people. My meal was delicious and well priced. I highly recommend to all “westerners” wanting to support local smaller restaurants. Namaste</td>\n",
       "      <td>Kitchen with a Cause - FANTASTIC</td>\n",
       "      <td>TripAdvisor</td>\n",
       "      <td>enjoy fantast meal kwac thank brikash sharma excel guid spend sometim new delhi recent tabl south african appreci give back etho support privileg street peopl meal delici well price highli recommend western want support local smaller restaur namast</td>\n",
       "    </tr>\n",
       "    <tr>\n",
       "      <td>3</td>\n",
       "      <td>3</td>\n",
       "      <td>5</td>\n",
       "      <td>25 February 2020</td>\n",
       "      <td>This is a lovely hidden gem in Karol Bagh, walking distance from the metro. The restaurant is beautiful with great food at reasonable prices. The staff is friendly &amp; competent also goes the extra mile if you want to celebrate a birthday or get together. They baked the most delicious chocolate cake and made my friends birthday extra special. So happy our tour guide Miksa took us there. I can highly recommend this restaurant to all my traveling buddies &amp; friends visiting Delhi from South Africa.</td>\n",
       "      <td>Intrepid Tour experience</td>\n",
       "      <td>TripAdvisor</td>\n",
       "      <td>love hidden gem karol bagh walk distanc metro restaur beauti great food reason price staff friendli compet also goe extra mile want celebr birthday get togeth bake delici chocol cake made friend birthday extra special happi tour guid miksa took us highli recommend restaur travel buddi friend visit delhi south africa</td>\n",
       "    </tr>\n",
       "    <tr>\n",
       "      <td>4</td>\n",
       "      <td>4</td>\n",
       "      <td>5</td>\n",
       "      <td>23 February 2020</td>\n",
       "      <td>The restaurant is a social project, so 5 stars just for it. Talking about the restaurant:- Food: wide variety of Indian dishes- Service: super kind and fast- Quality: very good (although some dishes are interpreted in the wrong way, the springs rolls and the fried rice. They were good and tasty, but do not expect the \"traditional\" dish).- Place: super clean - Price: super fair!Therefore, I would surely come back. :)</td>\n",
       "      <td>Great restaurant!</td>\n",
       "      <td>TripAdvisor</td>\n",
       "      <td>restaur social project star talk restaur food wide varieti indian dish servic super kind fast qualiti good although dish interpret wrong way spring roll fri rice good tasti expect tradit dish place super clean price super fair therefor would sure come back</td>\n",
       "    </tr>\n",
       "    <tr>\n",
       "      <td>...</td>\n",
       "      <td>...</td>\n",
       "      <td>...</td>\n",
       "      <td>...</td>\n",
       "      <td>...</td>\n",
       "      <td>...</td>\n",
       "      <td>...</td>\n",
       "      <td>...</td>\n",
       "    </tr>\n",
       "    <tr>\n",
       "      <td>206</td>\n",
       "      <td>6</td>\n",
       "      <td>5</td>\n",
       "      <td>19 February 2018</td>\n",
       "      <td>A perfect meal and a great place and atmosphere - attentive staff and had a great vibe, we wouldn’t visit Delhi again without coming here first!</td>\n",
       "      <td>Perfect Visit in heart of Dehli</td>\n",
       "      <td>TripAdvisor</td>\n",
       "      <td>perfect meal great place atmospher attent staff great vibe visit delhi without come first</td>\n",
       "    </tr>\n",
       "    <tr>\n",
       "      <td>207</td>\n",
       "      <td>7</td>\n",
       "      <td>5</td>\n",
       "      <td>19 February 2018</td>\n",
       "      <td>This was our tour groups first meal in India, and we were made to feel instantly welcome. The manager came to introduce himself and the food was incredible. Apart from being the best presented food we had during our trip, it tasted lovely too. I stuck with vegetarian, but the meat received good comments from our group too. A definite recommendation.</td>\n",
       "      <td>Excellent food and vibe</td>\n",
       "      <td>TripAdvisor</td>\n",
       "      <td>tour group first meal india made feel instantli welcom manag came introduc food incred apart best present food trip tast love stuck vegetarian meat receiv good comment group definit recommend</td>\n",
       "    </tr>\n",
       "    <tr>\n",
       "      <td>208</td>\n",
       "      <td>8</td>\n",
       "      <td>5</td>\n",
       "      <td>17 February 2018</td>\n",
       "      <td>Lip smacking, delicious food, cool ambience, homely vibe with a really helpful and friendly staff.Also great initiative - giving back to the community!!!</td>\n",
       "      <td>Delicious food</td>\n",
       "      <td>TripAdvisor</td>\n",
       "      <td>lip smack delici food cool ambienc home vibe realli help friendli staff also great initi give back commun</td>\n",
       "    </tr>\n",
       "    <tr>\n",
       "      <td>209</td>\n",
       "      <td>9</td>\n",
       "      <td>5</td>\n",
       "      <td>16 February 2018</td>\n",
       "      <td>Great ambiance and super service with their food quality. They did every thing to make my son birthday special.</td>\n",
       "      <td>Best Birthday party ever</td>\n",
       "      <td>TripAdvisor</td>\n",
       "      <td>great ambianc super servic food qualiti everi thing make son birthday special</td>\n",
       "    </tr>\n",
       "    <tr>\n",
       "      <td>210</td>\n",
       "      <td>0</td>\n",
       "      <td>5</td>\n",
       "      <td>11 February 2018</td>\n",
       "      <td>Our group of travellers enjoyed the food and drinks at Street Kitchen for dinner twice while on a tour of India. We started with drinks from their large selection of smoothies, shakes, lassi and juices, all freshly prepared and artfully presented. Our food choices were made from a good selection of traditional Indian vegetarian and non-vegetarian dishes as well as salads, Chinese and Continental dishes. The food and drinks were delicious, beautifully presented and enjoyed by all members of our group.</td>\n",
       "      <td>Artfully presented delicious food</td>\n",
       "      <td>TripAdvisor</td>\n",
       "      <td>group travel enjoy food drink street kitchen dinner twice tour india start drink larg select smoothi shake lassi juic freshli prepar art present food choic made good select tradit indian vegetarian non vegetarian dish well salad chines continent dish food drink delici beauti present enjoy member group</td>\n",
       "    </tr>\n",
       "  </tbody>\n",
       "</table>\n",
       "<p>211 rows × 7 columns</p>\n",
       "</div>"
      ],
      "text/plain": [
       "     Unnamed: 0  bubble_rating       review_date  \\\n",
       "0    0           5              11 March 2020      \n",
       "1    1           5              11 March 2020      \n",
       "2    2           5              2 March 2020       \n",
       "3    3           5              25 February 2020   \n",
       "4    4           5              23 February 2020   \n",
       "..  ..          ..                           ...   \n",
       "206  6           5              19 February 2018   \n",
       "207  7           5              19 February 2018   \n",
       "208  8           5              17 February 2018   \n",
       "209  9           5              16 February 2018   \n",
       "210  0           5              11 February 2018   \n",
       "\n",
       "                                                                                                                                                                                                                                                                                                                                                                                                                                                                                                              review_paragraph  \\\n",
       "0    This place is swarming with Gadventurers and CEOs and the food is quite good, especially their garlic naan, my favorite.  Almost all their dishes are exceptionally good.  Came here three times and tried different dishes on the menu....never disappointed.                                                                                                                                                                                                                                                              \n",
       "1    Visited about a week ago and we  were very impressed with the food service and gereral ambience of this very clean and slick restaurant. It is well worth a visit if in the area and prices are good. We will be returning soon.                                                                                                                                                                                                                                                                                            \n",
       "2    I enjoyed a fantastic meal at KWAC thanks to Brikash Sharma our excellent guide while spending sometime in New Delhi recently. We were a table of 15+ South Africans so appreciated the giving back ethos of supporting the under privileged and street people. My meal was delicious and well priced. I highly recommend to all “westerners” wanting to support local smaller restaurants. Namaste                                                                                                                         \n",
       "3    This is a lovely hidden gem in Karol Bagh, walking distance from the metro. The restaurant is beautiful with great food at reasonable prices. The staff is friendly & competent also goes the extra mile if you want to celebrate a birthday or get together. They baked the most delicious chocolate cake and made my friends birthday extra special. So happy our tour guide Miksa took us there. I can highly recommend this restaurant to all my traveling buddies & friends visiting Delhi from South Africa.          \n",
       "4    The restaurant is a social project, so 5 stars just for it. Talking about the restaurant:- Food: wide variety of Indian dishes- Service: super kind and fast- Quality: very good (although some dishes are interpreted in the wrong way, the springs rolls and the fried rice. They were good and tasty, but do not expect the \"traditional\" dish).- Place: super clean - Price: super fair!Therefore, I would surely come back. :)                                                                                         \n",
       "..                                                                                                                                                                                                                                                                                                                                                                                                                                   ...                                                                                         \n",
       "206  A perfect meal and a great place and atmosphere - attentive staff and had a great vibe, we wouldn’t visit Delhi again without coming here first!                                                                                                                                                                                                                                                                                                                                                                            \n",
       "207  This was our tour groups first meal in India, and we were made to feel instantly welcome. The manager came to introduce himself and the food was incredible. Apart from being the best presented food we had during our trip, it tasted lovely too. I stuck with vegetarian, but the meat received good comments from our group too. A definite recommendation.                                                                                                                                                             \n",
       "208  Lip smacking, delicious food, cool ambience, homely vibe with a really helpful and friendly staff.Also great initiative - giving back to the community!!!                                                                                                                                                                                                                                                                                                                                                                   \n",
       "209  Great ambiance and super service with their food quality. They did every thing to make my son birthday special.                                                                                                                                                                                                                                                                                                                                                                                                             \n",
       "210  Our group of travellers enjoyed the food and drinks at Street Kitchen for dinner twice while on a tour of India. We started with drinks from their large selection of smoothies, shakes, lassi and juices, all freshly prepared and artfully presented. Our food choices were made from a good selection of traditional Indian vegetarian and non-vegetarian dishes as well as salads, Chinese and Continental dishes. The food and drinks were delicious, beautifully presented and enjoyed by all members of our group.   \n",
       "\n",
       "                          review_title         site  \\\n",
       "0    Great Indian Food For a Cause      TripAdvisor   \n",
       "1    Dinner                             TripAdvisor   \n",
       "2    Kitchen with a Cause - FANTASTIC   TripAdvisor   \n",
       "3    Intrepid Tour experience           TripAdvisor   \n",
       "4    Great restaurant!                  TripAdvisor   \n",
       "..                 ...                          ...   \n",
       "206  Perfect Visit in heart of Dehli    TripAdvisor   \n",
       "207  Excellent food and vibe            TripAdvisor   \n",
       "208  Delicious food                     TripAdvisor   \n",
       "209  Best Birthday party ever           TripAdvisor   \n",
       "210  Artfully presented delicious food  TripAdvisor   \n",
       "\n",
       "                                                                                                                                                                                                                                                                                                                           cleaned  \n",
       "0    place swarm gadventur ceo food quit good especi garlic naan favorit almost dish except good came three time tri differ dish menu never disappoint                                                                                                                                                                              \n",
       "1    visit week ago impress food servic gerer ambienc clean slick restaur well worth visit area price good return soon                                                                                                                                                                                                              \n",
       "2    enjoy fantast meal kwac thank brikash sharma excel guid spend sometim new delhi recent tabl south african appreci give back etho support privileg street peopl meal delici well price highli recommend western want support local smaller restaur namast                                                                       \n",
       "3    love hidden gem karol bagh walk distanc metro restaur beauti great food reason price staff friendli compet also goe extra mile want celebr birthday get togeth bake delici chocol cake made friend birthday extra special happi tour guid miksa took us highli recommend restaur travel buddi friend visit delhi south africa  \n",
       "4    restaur social project star talk restaur food wide varieti indian dish servic super kind fast qualiti good although dish interpret wrong way spring roll fri rice good tasti expect tradit dish place super clean price super fair therefor would sure come back                                                               \n",
       "..                                                                                                                                                                                                                                                                ...                                                               \n",
       "206  perfect meal great place atmospher attent staff great vibe visit delhi without come first                                                                                                                                                                                                                                      \n",
       "207  tour group first meal india made feel instantli welcom manag came introduc food incred apart best present food trip tast love stuck vegetarian meat receiv good comment group definit recommend                                                                                                                                \n",
       "208  lip smack delici food cool ambienc home vibe realli help friendli staff also great initi give back commun                                                                                                                                                                                                                      \n",
       "209  great ambianc super servic food qualiti everi thing make son birthday special                                                                                                                                                                                                                                                  \n",
       "210  group travel enjoy food drink street kitchen dinner twice tour india start drink larg select smoothi shake lassi juic freshli prepar art present food choic made good select tradit indian vegetarian non vegetarian dish well salad chines continent dish food drink delici beauti present enjoy member group                 \n",
       "\n",
       "[211 rows x 7 columns]"
      ]
     },
     "execution_count": 19,
     "metadata": {},
     "output_type": "execute_result"
    }
   ],
   "source": [
    "new_df"
   ]
  },
  {
   "cell_type": "markdown",
   "metadata": {},
   "source": [
    "**Most Positive Review** "
   ]
  },
  {
   "cell_type": "code",
   "execution_count": 20,
   "metadata": {},
   "outputs": [
    {
     "ename": "KeyError",
     "evalue": "'Positive Score'",
     "output_type": "error",
     "traceback": [
      "\u001b[1;31m---------------------------------------------------------------------------\u001b[0m",
      "\u001b[1;31mKeyError\u001b[0m                                  Traceback (most recent call last)",
      "\u001b[1;32m~\\AppData\\Local\\Continuum\\anaconda3\\lib\\site-packages\\pandas\\core\\indexes\\base.py\u001b[0m in \u001b[0;36mget_loc\u001b[1;34m(self, key, method, tolerance)\u001b[0m\n\u001b[0;32m   2896\u001b[0m             \u001b[1;32mtry\u001b[0m\u001b[1;33m:\u001b[0m\u001b[1;33m\u001b[0m\u001b[1;33m\u001b[0m\u001b[0m\n\u001b[1;32m-> 2897\u001b[1;33m                 \u001b[1;32mreturn\u001b[0m \u001b[0mself\u001b[0m\u001b[1;33m.\u001b[0m\u001b[0m_engine\u001b[0m\u001b[1;33m.\u001b[0m\u001b[0mget_loc\u001b[0m\u001b[1;33m(\u001b[0m\u001b[0mkey\u001b[0m\u001b[1;33m)\u001b[0m\u001b[1;33m\u001b[0m\u001b[1;33m\u001b[0m\u001b[0m\n\u001b[0m\u001b[0;32m   2898\u001b[0m             \u001b[1;32mexcept\u001b[0m \u001b[0mKeyError\u001b[0m\u001b[1;33m:\u001b[0m\u001b[1;33m\u001b[0m\u001b[1;33m\u001b[0m\u001b[0m\n",
      "\u001b[1;32mpandas\\_libs\\index.pyx\u001b[0m in \u001b[0;36mpandas._libs.index.IndexEngine.get_loc\u001b[1;34m()\u001b[0m\n",
      "\u001b[1;32mpandas\\_libs\\index.pyx\u001b[0m in \u001b[0;36mpandas._libs.index.IndexEngine.get_loc\u001b[1;34m()\u001b[0m\n",
      "\u001b[1;32mpandas\\_libs\\hashtable_class_helper.pxi\u001b[0m in \u001b[0;36mpandas._libs.hashtable.PyObjectHashTable.get_item\u001b[1;34m()\u001b[0m\n",
      "\u001b[1;32mpandas\\_libs\\hashtable_class_helper.pxi\u001b[0m in \u001b[0;36mpandas._libs.hashtable.PyObjectHashTable.get_item\u001b[1;34m()\u001b[0m\n",
      "\u001b[1;31mKeyError\u001b[0m: 'Positive Score'",
      "\nDuring handling of the above exception, another exception occurred:\n",
      "\u001b[1;31mKeyError\u001b[0m                                  Traceback (most recent call last)",
      "\u001b[1;32m<ipython-input-20-97323d9d9233>\u001b[0m in \u001b[0;36m<module>\u001b[1;34m\u001b[0m\n\u001b[1;32m----> 1\u001b[1;33m \u001b[0mnew_df\u001b[0m\u001b[1;33m[\u001b[0m\u001b[0mnew_df\u001b[0m\u001b[1;33m[\u001b[0m\u001b[1;34m'Positive Score'\u001b[0m\u001b[1;33m]\u001b[0m \u001b[1;33m==\u001b[0m \u001b[0mnew_df\u001b[0m\u001b[1;33m[\u001b[0m\u001b[1;34m'Positive Score'\u001b[0m\u001b[1;33m]\u001b[0m\u001b[1;33m.\u001b[0m\u001b[0mmax\u001b[0m\u001b[1;33m(\u001b[0m\u001b[1;33m)\u001b[0m\u001b[1;33m]\u001b[0m\u001b[1;33m[\u001b[0m\u001b[1;34m'review_paragraph'\u001b[0m\u001b[1;33m]\u001b[0m\u001b[1;33m\u001b[0m\u001b[1;33m\u001b[0m\u001b[0m\n\u001b[0m",
      "\u001b[1;32m~\\AppData\\Local\\Continuum\\anaconda3\\lib\\site-packages\\pandas\\core\\frame.py\u001b[0m in \u001b[0;36m__getitem__\u001b[1;34m(self, key)\u001b[0m\n\u001b[0;32m   2978\u001b[0m             \u001b[1;32mif\u001b[0m \u001b[0mself\u001b[0m\u001b[1;33m.\u001b[0m\u001b[0mcolumns\u001b[0m\u001b[1;33m.\u001b[0m\u001b[0mnlevels\u001b[0m \u001b[1;33m>\u001b[0m \u001b[1;36m1\u001b[0m\u001b[1;33m:\u001b[0m\u001b[1;33m\u001b[0m\u001b[1;33m\u001b[0m\u001b[0m\n\u001b[0;32m   2979\u001b[0m                 \u001b[1;32mreturn\u001b[0m \u001b[0mself\u001b[0m\u001b[1;33m.\u001b[0m\u001b[0m_getitem_multilevel\u001b[0m\u001b[1;33m(\u001b[0m\u001b[0mkey\u001b[0m\u001b[1;33m)\u001b[0m\u001b[1;33m\u001b[0m\u001b[1;33m\u001b[0m\u001b[0m\n\u001b[1;32m-> 2980\u001b[1;33m             \u001b[0mindexer\u001b[0m \u001b[1;33m=\u001b[0m \u001b[0mself\u001b[0m\u001b[1;33m.\u001b[0m\u001b[0mcolumns\u001b[0m\u001b[1;33m.\u001b[0m\u001b[0mget_loc\u001b[0m\u001b[1;33m(\u001b[0m\u001b[0mkey\u001b[0m\u001b[1;33m)\u001b[0m\u001b[1;33m\u001b[0m\u001b[1;33m\u001b[0m\u001b[0m\n\u001b[0m\u001b[0;32m   2981\u001b[0m             \u001b[1;32mif\u001b[0m \u001b[0mis_integer\u001b[0m\u001b[1;33m(\u001b[0m\u001b[0mindexer\u001b[0m\u001b[1;33m)\u001b[0m\u001b[1;33m:\u001b[0m\u001b[1;33m\u001b[0m\u001b[1;33m\u001b[0m\u001b[0m\n\u001b[0;32m   2982\u001b[0m                 \u001b[0mindexer\u001b[0m \u001b[1;33m=\u001b[0m \u001b[1;33m[\u001b[0m\u001b[0mindexer\u001b[0m\u001b[1;33m]\u001b[0m\u001b[1;33m\u001b[0m\u001b[1;33m\u001b[0m\u001b[0m\n",
      "\u001b[1;32m~\\AppData\\Local\\Continuum\\anaconda3\\lib\\site-packages\\pandas\\core\\indexes\\base.py\u001b[0m in \u001b[0;36mget_loc\u001b[1;34m(self, key, method, tolerance)\u001b[0m\n\u001b[0;32m   2897\u001b[0m                 \u001b[1;32mreturn\u001b[0m \u001b[0mself\u001b[0m\u001b[1;33m.\u001b[0m\u001b[0m_engine\u001b[0m\u001b[1;33m.\u001b[0m\u001b[0mget_loc\u001b[0m\u001b[1;33m(\u001b[0m\u001b[0mkey\u001b[0m\u001b[1;33m)\u001b[0m\u001b[1;33m\u001b[0m\u001b[1;33m\u001b[0m\u001b[0m\n\u001b[0;32m   2898\u001b[0m             \u001b[1;32mexcept\u001b[0m \u001b[0mKeyError\u001b[0m\u001b[1;33m:\u001b[0m\u001b[1;33m\u001b[0m\u001b[1;33m\u001b[0m\u001b[0m\n\u001b[1;32m-> 2899\u001b[1;33m                 \u001b[1;32mreturn\u001b[0m \u001b[0mself\u001b[0m\u001b[1;33m.\u001b[0m\u001b[0m_engine\u001b[0m\u001b[1;33m.\u001b[0m\u001b[0mget_loc\u001b[0m\u001b[1;33m(\u001b[0m\u001b[0mself\u001b[0m\u001b[1;33m.\u001b[0m\u001b[0m_maybe_cast_indexer\u001b[0m\u001b[1;33m(\u001b[0m\u001b[0mkey\u001b[0m\u001b[1;33m)\u001b[0m\u001b[1;33m)\u001b[0m\u001b[1;33m\u001b[0m\u001b[1;33m\u001b[0m\u001b[0m\n\u001b[0m\u001b[0;32m   2900\u001b[0m         \u001b[0mindexer\u001b[0m \u001b[1;33m=\u001b[0m \u001b[0mself\u001b[0m\u001b[1;33m.\u001b[0m\u001b[0mget_indexer\u001b[0m\u001b[1;33m(\u001b[0m\u001b[1;33m[\u001b[0m\u001b[0mkey\u001b[0m\u001b[1;33m]\u001b[0m\u001b[1;33m,\u001b[0m \u001b[0mmethod\u001b[0m\u001b[1;33m=\u001b[0m\u001b[0mmethod\u001b[0m\u001b[1;33m,\u001b[0m \u001b[0mtolerance\u001b[0m\u001b[1;33m=\u001b[0m\u001b[0mtolerance\u001b[0m\u001b[1;33m)\u001b[0m\u001b[1;33m\u001b[0m\u001b[1;33m\u001b[0m\u001b[0m\n\u001b[0;32m   2901\u001b[0m         \u001b[1;32mif\u001b[0m \u001b[0mindexer\u001b[0m\u001b[1;33m.\u001b[0m\u001b[0mndim\u001b[0m \u001b[1;33m>\u001b[0m \u001b[1;36m1\u001b[0m \u001b[1;32mor\u001b[0m \u001b[0mindexer\u001b[0m\u001b[1;33m.\u001b[0m\u001b[0msize\u001b[0m \u001b[1;33m>\u001b[0m \u001b[1;36m1\u001b[0m\u001b[1;33m:\u001b[0m\u001b[1;33m\u001b[0m\u001b[1;33m\u001b[0m\u001b[0m\n",
      "\u001b[1;32mpandas\\_libs\\index.pyx\u001b[0m in \u001b[0;36mpandas._libs.index.IndexEngine.get_loc\u001b[1;34m()\u001b[0m\n",
      "\u001b[1;32mpandas\\_libs\\index.pyx\u001b[0m in \u001b[0;36mpandas._libs.index.IndexEngine.get_loc\u001b[1;34m()\u001b[0m\n",
      "\u001b[1;32mpandas\\_libs\\hashtable_class_helper.pxi\u001b[0m in \u001b[0;36mpandas._libs.hashtable.PyObjectHashTable.get_item\u001b[1;34m()\u001b[0m\n",
      "\u001b[1;32mpandas\\_libs\\hashtable_class_helper.pxi\u001b[0m in \u001b[0;36mpandas._libs.hashtable.PyObjectHashTable.get_item\u001b[1;34m()\u001b[0m\n",
      "\u001b[1;31mKeyError\u001b[0m: 'Positive Score'"
     ]
    }
   ],
   "source": [
    "new_df[new_df['Positive Score'] == new_df['Positive Score'].max()]['review_paragraph']"
   ]
  },
  {
   "cell_type": "markdown",
   "metadata": {},
   "source": [
    "**Most Negative Review**"
   ]
  },
  {
   "cell_type": "code",
   "execution_count": 21,
   "metadata": {},
   "outputs": [
    {
     "ename": "KeyError",
     "evalue": "'Positive Score'",
     "output_type": "error",
     "traceback": [
      "\u001b[1;31m---------------------------------------------------------------------------\u001b[0m",
      "\u001b[1;31mKeyError\u001b[0m                                  Traceback (most recent call last)",
      "\u001b[1;32m~\\AppData\\Local\\Continuum\\anaconda3\\lib\\site-packages\\pandas\\core\\indexes\\base.py\u001b[0m in \u001b[0;36mget_loc\u001b[1;34m(self, key, method, tolerance)\u001b[0m\n\u001b[0;32m   2896\u001b[0m             \u001b[1;32mtry\u001b[0m\u001b[1;33m:\u001b[0m\u001b[1;33m\u001b[0m\u001b[1;33m\u001b[0m\u001b[0m\n\u001b[1;32m-> 2897\u001b[1;33m                 \u001b[1;32mreturn\u001b[0m \u001b[0mself\u001b[0m\u001b[1;33m.\u001b[0m\u001b[0m_engine\u001b[0m\u001b[1;33m.\u001b[0m\u001b[0mget_loc\u001b[0m\u001b[1;33m(\u001b[0m\u001b[0mkey\u001b[0m\u001b[1;33m)\u001b[0m\u001b[1;33m\u001b[0m\u001b[1;33m\u001b[0m\u001b[0m\n\u001b[0m\u001b[0;32m   2898\u001b[0m             \u001b[1;32mexcept\u001b[0m \u001b[0mKeyError\u001b[0m\u001b[1;33m:\u001b[0m\u001b[1;33m\u001b[0m\u001b[1;33m\u001b[0m\u001b[0m\n",
      "\u001b[1;32mpandas\\_libs\\index.pyx\u001b[0m in \u001b[0;36mpandas._libs.index.IndexEngine.get_loc\u001b[1;34m()\u001b[0m\n",
      "\u001b[1;32mpandas\\_libs\\index.pyx\u001b[0m in \u001b[0;36mpandas._libs.index.IndexEngine.get_loc\u001b[1;34m()\u001b[0m\n",
      "\u001b[1;32mpandas\\_libs\\hashtable_class_helper.pxi\u001b[0m in \u001b[0;36mpandas._libs.hashtable.PyObjectHashTable.get_item\u001b[1;34m()\u001b[0m\n",
      "\u001b[1;32mpandas\\_libs\\hashtable_class_helper.pxi\u001b[0m in \u001b[0;36mpandas._libs.hashtable.PyObjectHashTable.get_item\u001b[1;34m()\u001b[0m\n",
      "\u001b[1;31mKeyError\u001b[0m: 'Positive Score'",
      "\nDuring handling of the above exception, another exception occurred:\n",
      "\u001b[1;31mKeyError\u001b[0m                                  Traceback (most recent call last)",
      "\u001b[1;32m<ipython-input-21-21c2554b804c>\u001b[0m in \u001b[0;36m<module>\u001b[1;34m\u001b[0m\n\u001b[1;32m----> 1\u001b[1;33m \u001b[0mnew_df\u001b[0m\u001b[1;33m[\u001b[0m\u001b[0mnew_df\u001b[0m\u001b[1;33m[\u001b[0m\u001b[1;34m'Positive Score'\u001b[0m\u001b[1;33m]\u001b[0m \u001b[1;33m==\u001b[0m \u001b[0mnew_df\u001b[0m\u001b[1;33m[\u001b[0m\u001b[1;34m'Positive Score'\u001b[0m\u001b[1;33m]\u001b[0m\u001b[1;33m.\u001b[0m\u001b[0mmin\u001b[0m\u001b[1;33m(\u001b[0m\u001b[1;33m)\u001b[0m\u001b[1;33m]\u001b[0m\u001b[1;33m[\u001b[0m\u001b[1;34m'review_paragraph'\u001b[0m\u001b[1;33m]\u001b[0m\u001b[1;33m\u001b[0m\u001b[1;33m\u001b[0m\u001b[0m\n\u001b[0m",
      "\u001b[1;32m~\\AppData\\Local\\Continuum\\anaconda3\\lib\\site-packages\\pandas\\core\\frame.py\u001b[0m in \u001b[0;36m__getitem__\u001b[1;34m(self, key)\u001b[0m\n\u001b[0;32m   2978\u001b[0m             \u001b[1;32mif\u001b[0m \u001b[0mself\u001b[0m\u001b[1;33m.\u001b[0m\u001b[0mcolumns\u001b[0m\u001b[1;33m.\u001b[0m\u001b[0mnlevels\u001b[0m \u001b[1;33m>\u001b[0m \u001b[1;36m1\u001b[0m\u001b[1;33m:\u001b[0m\u001b[1;33m\u001b[0m\u001b[1;33m\u001b[0m\u001b[0m\n\u001b[0;32m   2979\u001b[0m                 \u001b[1;32mreturn\u001b[0m \u001b[0mself\u001b[0m\u001b[1;33m.\u001b[0m\u001b[0m_getitem_multilevel\u001b[0m\u001b[1;33m(\u001b[0m\u001b[0mkey\u001b[0m\u001b[1;33m)\u001b[0m\u001b[1;33m\u001b[0m\u001b[1;33m\u001b[0m\u001b[0m\n\u001b[1;32m-> 2980\u001b[1;33m             \u001b[0mindexer\u001b[0m \u001b[1;33m=\u001b[0m \u001b[0mself\u001b[0m\u001b[1;33m.\u001b[0m\u001b[0mcolumns\u001b[0m\u001b[1;33m.\u001b[0m\u001b[0mget_loc\u001b[0m\u001b[1;33m(\u001b[0m\u001b[0mkey\u001b[0m\u001b[1;33m)\u001b[0m\u001b[1;33m\u001b[0m\u001b[1;33m\u001b[0m\u001b[0m\n\u001b[0m\u001b[0;32m   2981\u001b[0m             \u001b[1;32mif\u001b[0m \u001b[0mis_integer\u001b[0m\u001b[1;33m(\u001b[0m\u001b[0mindexer\u001b[0m\u001b[1;33m)\u001b[0m\u001b[1;33m:\u001b[0m\u001b[1;33m\u001b[0m\u001b[1;33m\u001b[0m\u001b[0m\n\u001b[0;32m   2982\u001b[0m                 \u001b[0mindexer\u001b[0m \u001b[1;33m=\u001b[0m \u001b[1;33m[\u001b[0m\u001b[0mindexer\u001b[0m\u001b[1;33m]\u001b[0m\u001b[1;33m\u001b[0m\u001b[1;33m\u001b[0m\u001b[0m\n",
      "\u001b[1;32m~\\AppData\\Local\\Continuum\\anaconda3\\lib\\site-packages\\pandas\\core\\indexes\\base.py\u001b[0m in \u001b[0;36mget_loc\u001b[1;34m(self, key, method, tolerance)\u001b[0m\n\u001b[0;32m   2897\u001b[0m                 \u001b[1;32mreturn\u001b[0m \u001b[0mself\u001b[0m\u001b[1;33m.\u001b[0m\u001b[0m_engine\u001b[0m\u001b[1;33m.\u001b[0m\u001b[0mget_loc\u001b[0m\u001b[1;33m(\u001b[0m\u001b[0mkey\u001b[0m\u001b[1;33m)\u001b[0m\u001b[1;33m\u001b[0m\u001b[1;33m\u001b[0m\u001b[0m\n\u001b[0;32m   2898\u001b[0m             \u001b[1;32mexcept\u001b[0m \u001b[0mKeyError\u001b[0m\u001b[1;33m:\u001b[0m\u001b[1;33m\u001b[0m\u001b[1;33m\u001b[0m\u001b[0m\n\u001b[1;32m-> 2899\u001b[1;33m                 \u001b[1;32mreturn\u001b[0m \u001b[0mself\u001b[0m\u001b[1;33m.\u001b[0m\u001b[0m_engine\u001b[0m\u001b[1;33m.\u001b[0m\u001b[0mget_loc\u001b[0m\u001b[1;33m(\u001b[0m\u001b[0mself\u001b[0m\u001b[1;33m.\u001b[0m\u001b[0m_maybe_cast_indexer\u001b[0m\u001b[1;33m(\u001b[0m\u001b[0mkey\u001b[0m\u001b[1;33m)\u001b[0m\u001b[1;33m)\u001b[0m\u001b[1;33m\u001b[0m\u001b[1;33m\u001b[0m\u001b[0m\n\u001b[0m\u001b[0;32m   2900\u001b[0m         \u001b[0mindexer\u001b[0m \u001b[1;33m=\u001b[0m \u001b[0mself\u001b[0m\u001b[1;33m.\u001b[0m\u001b[0mget_indexer\u001b[0m\u001b[1;33m(\u001b[0m\u001b[1;33m[\u001b[0m\u001b[0mkey\u001b[0m\u001b[1;33m]\u001b[0m\u001b[1;33m,\u001b[0m \u001b[0mmethod\u001b[0m\u001b[1;33m=\u001b[0m\u001b[0mmethod\u001b[0m\u001b[1;33m,\u001b[0m \u001b[0mtolerance\u001b[0m\u001b[1;33m=\u001b[0m\u001b[0mtolerance\u001b[0m\u001b[1;33m)\u001b[0m\u001b[1;33m\u001b[0m\u001b[1;33m\u001b[0m\u001b[0m\n\u001b[0;32m   2901\u001b[0m         \u001b[1;32mif\u001b[0m \u001b[0mindexer\u001b[0m\u001b[1;33m.\u001b[0m\u001b[0mndim\u001b[0m \u001b[1;33m>\u001b[0m \u001b[1;36m1\u001b[0m \u001b[1;32mor\u001b[0m \u001b[0mindexer\u001b[0m\u001b[1;33m.\u001b[0m\u001b[0msize\u001b[0m \u001b[1;33m>\u001b[0m \u001b[1;36m1\u001b[0m\u001b[1;33m:\u001b[0m\u001b[1;33m\u001b[0m\u001b[1;33m\u001b[0m\u001b[0m\n",
      "\u001b[1;32mpandas\\_libs\\index.pyx\u001b[0m in \u001b[0;36mpandas._libs.index.IndexEngine.get_loc\u001b[1;34m()\u001b[0m\n",
      "\u001b[1;32mpandas\\_libs\\index.pyx\u001b[0m in \u001b[0;36mpandas._libs.index.IndexEngine.get_loc\u001b[1;34m()\u001b[0m\n",
      "\u001b[1;32mpandas\\_libs\\hashtable_class_helper.pxi\u001b[0m in \u001b[0;36mpandas._libs.hashtable.PyObjectHashTable.get_item\u001b[1;34m()\u001b[0m\n",
      "\u001b[1;32mpandas\\_libs\\hashtable_class_helper.pxi\u001b[0m in \u001b[0;36mpandas._libs.hashtable.PyObjectHashTable.get_item\u001b[1;34m()\u001b[0m\n",
      "\u001b[1;31mKeyError\u001b[0m: 'Positive Score'"
     ]
    }
   ],
   "source": [
    "new_df[new_df['Positive Score'] == new_df['Positive Score'].min()]['review_paragraph']"
   ]
  },
  {
   "cell_type": "markdown",
   "metadata": {},
   "source": [
    "</br>"
   ]
  },
  {
   "cell_type": "markdown",
   "metadata": {},
   "source": [
    "**Number of Negative Reviews**"
   ]
  },
  {
   "cell_type": "code",
   "execution_count": 344,
   "metadata": {},
   "outputs": [
    {
     "data": {
      "text/html": [
       "<div>\n",
       "<style scoped>\n",
       "    .dataframe tbody tr th:only-of-type {\n",
       "        vertical-align: middle;\n",
       "    }\n",
       "\n",
       "    .dataframe tbody tr th {\n",
       "        vertical-align: top;\n",
       "    }\n",
       "\n",
       "    .dataframe thead th {\n",
       "        text-align: right;\n",
       "    }\n",
       "</style>\n",
       "<table border=\"1\" class=\"dataframe\">\n",
       "  <thead>\n",
       "    <tr style=\"text-align: right;\">\n",
       "      <th></th>\n",
       "      <th>Unnamed: 0</th>\n",
       "      <th>bubble_rating</th>\n",
       "      <th>review_date</th>\n",
       "      <th>review_paragraph</th>\n",
       "      <th>review_title</th>\n",
       "      <th>site</th>\n",
       "      <th>cleaned</th>\n",
       "      <th>Score</th>\n",
       "      <th>Polarity</th>\n",
       "      <th>Positive Score</th>\n",
       "    </tr>\n",
       "  </thead>\n",
       "  <tbody>\n",
       "    <tr>\n",
       "      <td>94</td>\n",
       "      <td>4</td>\n",
       "      <td>1</td>\n",
       "      <td>11 April 2019</td>\n",
       "      <td>Had to Order 3 times to get something that they had ingredients for, disappointing service, in the end I got a pizza, the smallest pizza I’ve ever seen</td>\n",
       "      <td>No ingredients</td>\n",
       "      <td>TripAdvisor</td>\n",
       "      <td>order time get someth ingredi disappoint servic end got pizza smallest pizza ever seen</td>\n",
       "      <td>{'neg': 0.106, 'neu': 0.894, 'pos': 0.0, 'compound': -0.4939}</td>\n",
       "      <td>Negative</td>\n",
       "      <td>0</td>\n",
       "    </tr>\n",
       "  </tbody>\n",
       "</table>\n",
       "</div>"
      ],
      "text/plain": [
       "    Unnamed: 0  bubble_rating    review_date  \\\n",
       "94  4           1              11 April 2019   \n",
       "\n",
       "                                                                                                                                           review_paragraph  \\\n",
       "94  Had to Order 3 times to get something that they had ingredients for, disappointing service, in the end I got a pizza, the smallest pizza I’ve ever seen   \n",
       "\n",
       "       review_title         site  \\\n",
       "94  No ingredients   TripAdvisor   \n",
       "\n",
       "                                                                                   cleaned  \\\n",
       "94  order time get someth ingredi disappoint servic end got pizza smallest pizza ever seen   \n",
       "\n",
       "                                                            Score  Polarity  \\\n",
       "94  {'neg': 0.106, 'neu': 0.894, 'pos': 0.0, 'compound': -0.4939}  Negative   \n",
       "\n",
       "   Positive Score  \n",
       "94  0              "
      ]
     },
     "execution_count": 344,
     "metadata": {},
     "output_type": "execute_result"
    }
   ],
   "source": [
    "new_df[new_df['Polarity'] == 'Negative']"
   ]
  },
  {
   "cell_type": "code",
   "execution_count": 345,
   "metadata": {},
   "outputs": [
    {
     "data": {
      "text/plain": [
       "1"
      ]
     },
     "execution_count": 345,
     "metadata": {},
     "output_type": "execute_result"
    }
   ],
   "source": [
    "new_df[new_df['Polarity'] == 'Negative'].count()[0]"
   ]
  },
  {
   "cell_type": "markdown",
   "metadata": {},
   "source": [
    "<br>"
   ]
  },
  {
   "cell_type": "markdown",
   "metadata": {},
   "source": [
    "**Neutral Review & number of Neutral Reviews**"
   ]
  },
  {
   "cell_type": "code",
   "execution_count": 342,
   "metadata": {},
   "outputs": [
    {
     "data": {
      "text/html": [
       "<div>\n",
       "<style scoped>\n",
       "    .dataframe tbody tr th:only-of-type {\n",
       "        vertical-align: middle;\n",
       "    }\n",
       "\n",
       "    .dataframe tbody tr th {\n",
       "        vertical-align: top;\n",
       "    }\n",
       "\n",
       "    .dataframe thead th {\n",
       "        text-align: right;\n",
       "    }\n",
       "</style>\n",
       "<table border=\"1\" class=\"dataframe\">\n",
       "  <thead>\n",
       "    <tr style=\"text-align: right;\">\n",
       "      <th></th>\n",
       "      <th>Unnamed: 0</th>\n",
       "      <th>bubble_rating</th>\n",
       "      <th>review_date</th>\n",
       "      <th>review_paragraph</th>\n",
       "      <th>review_title</th>\n",
       "      <th>site</th>\n",
       "      <th>cleaned</th>\n",
       "      <th>Score</th>\n",
       "      <th>Polarity</th>\n",
       "      <th>Positive Score</th>\n",
       "    </tr>\n",
       "  </thead>\n",
       "  <tbody>\n",
       "    <tr>\n",
       "      <td>54</td>\n",
       "      <td>4</td>\n",
       "      <td>4</td>\n",
       "      <td>14 October 2019</td>\n",
       "      <td>\"As it is in its name that this place is run for a Cause ie to help underprivileged to earn their living\"...Good Ambience, Food &amp; staff. When we visited this place it was fully occupied by the Foreign tourists &amp; some were also waiting for their table..they have a bar &amp; the prices are also moderate...</td>\n",
       "      <td>\"Casual outing\"</td>\n",
       "      <td>TripAdvisor</td>\n",
       "      <td>name place run caus ie help underprivileg earn live good ambienc food staff visit place fulli occupi foreign tourist also wait tabl bar price also moder</td>\n",
       "      <td>{'neg': 0.0, 'neu': 0.953, 'pos': 0.047, 'compound': 0.4019}</td>\n",
       "      <td>Neutral</td>\n",
       "      <td>0.047</td>\n",
       "    </tr>\n",
       "  </tbody>\n",
       "</table>\n",
       "</div>"
      ],
      "text/plain": [
       "    Unnamed: 0  bubble_rating      review_date  \\\n",
       "54  4           4              14 October 2019   \n",
       "\n",
       "                                                                                                                                                                                                                                                                                                 review_paragraph  \\\n",
       "54  \"As it is in its name that this place is run for a Cause ie to help underprivileged to earn their living\"...Good Ambience, Food & staff. When we visited this place it was fully occupied by the Foreign tourists & some were also waiting for their table..they have a bar & the prices are also moderate...   \n",
       "\n",
       "       review_title         site  \\\n",
       "54  \"Casual outing\"  TripAdvisor   \n",
       "\n",
       "                                                                                                                                                     cleaned  \\\n",
       "54  name place run caus ie help underprivileg earn live good ambienc food staff visit place fulli occupi foreign tourist also wait tabl bar price also moder   \n",
       "\n",
       "                                                           Score Polarity  \\\n",
       "54  {'neg': 0.0, 'neu': 0.953, 'pos': 0.047, 'compound': 0.4019}  Neutral   \n",
       "\n",
       "   Positive Score  \n",
       "54  0.047          "
      ]
     },
     "execution_count": 342,
     "metadata": {},
     "output_type": "execute_result"
    }
   ],
   "source": [
    "new_df[new_df['Polarity'] == 'Neutral']"
   ]
  },
  {
   "cell_type": "code",
   "execution_count": 343,
   "metadata": {},
   "outputs": [
    {
     "data": {
      "text/plain": [
       "1"
      ]
     },
     "execution_count": 343,
     "metadata": {},
     "output_type": "execute_result"
    }
   ],
   "source": [
    "new_df[new_df['Polarity'] == 'Neutral'].count()[0]"
   ]
  },
  {
   "cell_type": "markdown",
   "metadata": {},
   "source": [
    "</br>"
   ]
  },
  {
   "cell_type": "code",
   "execution_count": 398,
   "metadata": {},
   "outputs": [
    {
     "data": {
      "image/png": "[encoded data removed]",
      "text/plain": [
       "<Figure size 432x288 with 1 Axes>"
      ]
     },
     "metadata": {
      "needs_background": "light"
     },
     "output_type": "display_data"
    }
   ],
   "source": [
    "sizes = [new_df[new_df['Polarity'] == 'Neutral'].count()[0],new_df[new_df['Polarity'] == 'Negative'].count()[0],new_df[new_df['Polarity'] == 'Positive'].count()[0]]\n",
    "labels = ['Neutral','Negative','Positive']\n",
    "plt.bar(labels,sizes)\n",
    "plt.ylabel('Number of Reviews')\n",
    "plt.show()"
   ]
  },
  {
   "cell_type": "markdown",
   "metadata": {},
   "source": [
    "Most of the reviews are Positive"
   ]
  },
  {
   "cell_type": "code",
   "execution_count": null,
   "metadata": {},
   "outputs": [],
   "source": []
  }
 ],
 "metadata": {
  "kernelspec": {
   "display_name": "Python 3",
   "language": "python",
   "name": "python3"
  },
  "language_info": {
   "codemirror_mode": {
    "name": "ipython",
    "version": 3
   },
   "file_extension": ".py",
   "mimetype": "text/x-python",
   "name": "python",
   "nbconvert_exporter": "python",
   "pygments_lexer": "ipython3",
   "version": "3.7.4"
  }
 },
 "nbformat": 4,
 "nbformat_minor": 2
}
